{
 "cells": [
  {
   "cell_type": "code",
   "execution_count": 1,
   "metadata": {
    "collapsed": true
   },
   "outputs": [],
   "source": [
    "import numpy as np                   \n",
    "import pandas as pa                 \n",
    "import matplotlib.pyplot as plt      \n",
    "import seaborn as sn                \n",
    "import numpy.random as rn\n",
    "from sklearn.decomposition import PCA\n",
    "from sklearn.linear_model import LinearRegression\n",
    "from sklearn.neighbors import KNeighborsRegressor\n",
    "from sklearn.linear_model import Ridge\n",
    "from sklearn.linear_model import Lasso\n",
    "from sklearn.tree import DecisionTreeRegressor\n",
    "from sklearn.ensemble import RandomForestRegressor\n",
    "from sklearn.ensemble import GradientBoostingRegressor\n",
    "from sklearn.neural_network import MLPRegressor\n",
    "from sklearn.linear_model import LogisticRegression\n",
    "import matplotlib.colors as pltco \n",
    "from sklearn.model_selection import cross_val_score"
   ]
  },
  {
   "cell_type": "markdown",
   "metadata": {},
   "source": [
    "### Import Data Frame assign the name fifa\n",
    "* Print out the head() or first 5 rows"
   ]
  },
  {
   "cell_type": "code",
   "execution_count": 2,
   "metadata": {},
   "outputs": [
    {
     "data": {
      "text/html": [
       "<div>\n",
       "<style>\n",
       "    .dataframe thead tr:only-child th {\n",
       "        text-align: right;\n",
       "    }\n",
       "\n",
       "    .dataframe thead th {\n",
       "        text-align: left;\n",
       "    }\n",
       "\n",
       "    .dataframe tbody tr th {\n",
       "        vertical-align: top;\n",
       "    }\n",
       "</style>\n",
       "<table border=\"1\" class=\"dataframe\">\n",
       "  <thead>\n",
       "    <tr style=\"text-align: right;\">\n",
       "      <th></th>\n",
       "      <th>Name</th>\n",
       "      <th>Age</th>\n",
       "      <th>Nationality</th>\n",
       "      <th>Overall</th>\n",
       "      <th>Potential</th>\n",
       "      <th>Club</th>\n",
       "      <th>Value</th>\n",
       "      <th>Wage</th>\n",
       "      <th>Acceleration</th>\n",
       "      <th>Aggression</th>\n",
       "      <th>...</th>\n",
       "      <th>Short passing</th>\n",
       "      <th>Shot power</th>\n",
       "      <th>Sliding tackle</th>\n",
       "      <th>Sprint speed</th>\n",
       "      <th>Stamina</th>\n",
       "      <th>Standing tackle</th>\n",
       "      <th>Strength</th>\n",
       "      <th>Vision</th>\n",
       "      <th>Volleys</th>\n",
       "      <th>Position</th>\n",
       "    </tr>\n",
       "  </thead>\n",
       "  <tbody>\n",
       "    <tr>\n",
       "      <th>0</th>\n",
       "      <td>Cristiano Ronaldo</td>\n",
       "      <td>32</td>\n",
       "      <td>Portugal</td>\n",
       "      <td>94</td>\n",
       "      <td>94</td>\n",
       "      <td>Real Madrid CF</td>\n",
       "      <td>€95.5M</td>\n",
       "      <td>€565K</td>\n",
       "      <td>89</td>\n",
       "      <td>63</td>\n",
       "      <td>...</td>\n",
       "      <td>83</td>\n",
       "      <td>94</td>\n",
       "      <td>23</td>\n",
       "      <td>91</td>\n",
       "      <td>92</td>\n",
       "      <td>31</td>\n",
       "      <td>80</td>\n",
       "      <td>85</td>\n",
       "      <td>88</td>\n",
       "      <td>ST LW</td>\n",
       "    </tr>\n",
       "    <tr>\n",
       "      <th>1</th>\n",
       "      <td>L. Messi</td>\n",
       "      <td>30</td>\n",
       "      <td>Argentina</td>\n",
       "      <td>93</td>\n",
       "      <td>93</td>\n",
       "      <td>FC Barcelona</td>\n",
       "      <td>€105M</td>\n",
       "      <td>€565K</td>\n",
       "      <td>92</td>\n",
       "      <td>48</td>\n",
       "      <td>...</td>\n",
       "      <td>88</td>\n",
       "      <td>85</td>\n",
       "      <td>26</td>\n",
       "      <td>87</td>\n",
       "      <td>73</td>\n",
       "      <td>28</td>\n",
       "      <td>59</td>\n",
       "      <td>90</td>\n",
       "      <td>85</td>\n",
       "      <td>RW</td>\n",
       "    </tr>\n",
       "    <tr>\n",
       "      <th>2</th>\n",
       "      <td>Neymar</td>\n",
       "      <td>25</td>\n",
       "      <td>Brazil</td>\n",
       "      <td>92</td>\n",
       "      <td>94</td>\n",
       "      <td>Paris Saint-Germain</td>\n",
       "      <td>€123M</td>\n",
       "      <td>€280K</td>\n",
       "      <td>94</td>\n",
       "      <td>56</td>\n",
       "      <td>...</td>\n",
       "      <td>81</td>\n",
       "      <td>80</td>\n",
       "      <td>33</td>\n",
       "      <td>90</td>\n",
       "      <td>78</td>\n",
       "      <td>24</td>\n",
       "      <td>53</td>\n",
       "      <td>80</td>\n",
       "      <td>83</td>\n",
       "      <td>LW</td>\n",
       "    </tr>\n",
       "    <tr>\n",
       "      <th>3</th>\n",
       "      <td>L. Suárez</td>\n",
       "      <td>30</td>\n",
       "      <td>Uruguay</td>\n",
       "      <td>92</td>\n",
       "      <td>92</td>\n",
       "      <td>FC Barcelona</td>\n",
       "      <td>€97M</td>\n",
       "      <td>€510K</td>\n",
       "      <td>88</td>\n",
       "      <td>78</td>\n",
       "      <td>...</td>\n",
       "      <td>83</td>\n",
       "      <td>87</td>\n",
       "      <td>38</td>\n",
       "      <td>77</td>\n",
       "      <td>89</td>\n",
       "      <td>45</td>\n",
       "      <td>80</td>\n",
       "      <td>84</td>\n",
       "      <td>88</td>\n",
       "      <td>ST</td>\n",
       "    </tr>\n",
       "    <tr>\n",
       "      <th>4</th>\n",
       "      <td>M. Neuer</td>\n",
       "      <td>31</td>\n",
       "      <td>Germany</td>\n",
       "      <td>92</td>\n",
       "      <td>92</td>\n",
       "      <td>FC Bayern Munich</td>\n",
       "      <td>€61M</td>\n",
       "      <td>€230K</td>\n",
       "      <td>58</td>\n",
       "      <td>29</td>\n",
       "      <td>...</td>\n",
       "      <td>55</td>\n",
       "      <td>25</td>\n",
       "      <td>11</td>\n",
       "      <td>61</td>\n",
       "      <td>44</td>\n",
       "      <td>10</td>\n",
       "      <td>83</td>\n",
       "      <td>70</td>\n",
       "      <td>11</td>\n",
       "      <td>GK</td>\n",
       "    </tr>\n",
       "  </tbody>\n",
       "</table>\n",
       "<p>5 rows × 43 columns</p>\n",
       "</div>"
      ],
      "text/plain": [
       "                Name  Age Nationality  Overall  Potential  \\\n",
       "0  Cristiano Ronaldo   32    Portugal       94         94   \n",
       "1           L. Messi   30   Argentina       93         93   \n",
       "2             Neymar   25      Brazil       92         94   \n",
       "3          L. Suárez   30     Uruguay       92         92   \n",
       "4           M. Neuer   31     Germany       92         92   \n",
       "\n",
       "                  Club   Value   Wage Acceleration Aggression   ...     \\\n",
       "0       Real Madrid CF  €95.5M  €565K           89         63   ...      \n",
       "1         FC Barcelona   €105M  €565K           92         48   ...      \n",
       "2  Paris Saint-Germain   €123M  €280K           94         56   ...      \n",
       "3         FC Barcelona    €97M  €510K           88         78   ...      \n",
       "4     FC Bayern Munich    €61M  €230K           58         29   ...      \n",
       "\n",
       "  Short passing Shot power Sliding tackle Sprint speed Stamina  \\\n",
       "0            83         94             23           91      92   \n",
       "1            88         85             26           87      73   \n",
       "2            81         80             33           90      78   \n",
       "3            83         87             38           77      89   \n",
       "4            55         25             11           61      44   \n",
       "\n",
       "  Standing tackle Strength Vision Volleys Position  \n",
       "0              31       80     85      88   ST LW   \n",
       "1              28       59     90      85      RW   \n",
       "2              24       53     80      83      LW   \n",
       "3              45       80     84      88      ST   \n",
       "4              10       83     70      11      GK   \n",
       "\n",
       "[5 rows x 43 columns]"
      ]
     },
     "execution_count": 2,
     "metadata": {},
     "output_type": "execute_result"
    }
   ],
   "source": [
    "fifa = pa.read_csv('https://www.dropbox.com/s/ov362sryogd0942/CompleteDataset.csv?dl=1', low_memory=False)\n",
    "\n",
    "fifa.head()"
   ]
  },
  {
   "cell_type": "markdown",
   "metadata": {},
   "source": [
    "### Fixing Bad Data\n",
    "* Stripped \"€\" and \"K\" from Wage\n",
    "* Stripped \"+\" and \"-\" from the front of the columns\n",
    "* Removed any part of the String after \"+\" and \"-\" and convert columns to float"
   ]
  },
  {
   "cell_type": "code",
   "execution_count": 3,
   "metadata": {
    "collapsed": true
   },
   "outputs": [],
   "source": [
    "fifa['Wage'] = fifa['Wage'].map(lambda x: x.lstrip('€').rstrip('K'))"
   ]
  },
  {
   "cell_type": "code",
   "execution_count": 4,
   "metadata": {
    "collapsed": true
   },
   "outputs": [],
   "source": [
    "A = fifa[\"Age\"] = fifa.Age.astype(float)\n",
    "B = fifa[\"Overall\"] = fifa.Overall.astype(float)\n",
    "C = fifa[\"Wage\"] = fifa.Wage.astype(float)\n",
    "D = fifa[\"Potential\"] = fifa.Potential.astype(float)"
   ]
  },
  {
   "cell_type": "code",
   "execution_count": 5,
   "metadata": {
    "collapsed": true
   },
   "outputs": [],
   "source": [
    "def removeStrings (X):\n",
    "    if '+' in X:\n",
    "        K = X.find('+')\n",
    "        return X[:K]\n",
    "    if '-' in X:\n",
    "        K = X.find('-')\n",
    "        return X[:K]\n",
    "    else:  \n",
    "        return X"
   ]
  },
  {
   "cell_type": "code",
   "execution_count": 6,
   "metadata": {
    "collapsed": true
   },
   "outputs": [],
   "source": [
    "def convertFloat(fifa, feature):\n",
    "    for K in fifa.index: \n",
    "        fifa.loc[K,feature] = removeStrings(fifa.loc[K, feature])\n",
    "\n",
    "    \n",
    "    fifa.loc[:, feature] = fifa.loc[:,feature].astype(\"float\")  \n",
    "    return fifa"
   ]
  },
  {
   "cell_type": "code",
   "execution_count": 7,
   "metadata": {
    "collapsed": true
   },
   "outputs": [],
   "source": [
    "fifa = convertFloat(fifa, \"Acceleration\")\n",
    "fifa = convertFloat(fifa, \"Aggression\")\n",
    "fifa = convertFloat(fifa, \"Agility\")\n",
    "fifa = convertFloat(fifa, \"Balance\")\n",
    "fifa = convertFloat(fifa, \"Ball control\")"
   ]
  },
  {
   "cell_type": "markdown",
   "metadata": {},
   "source": [
    "### Avalaible Columns\n",
    "* Age, Overall, Potentail, Wage, Acceleration, Aggression, Agility, Balance, and Ball Control"
   ]
  },
  {
   "cell_type": "markdown",
   "metadata": {},
   "source": [
    "## K- nearest neighbors"
   ]
  },
  {
   "cell_type": "code",
   "execution_count": 8,
   "metadata": {
    "collapsed": true
   },
   "outputs": [],
   "source": [
    "X = np.array(fifa[['Ball control', 'Overall']])\n",
    "y = np.array(fifa.iloc[:, 7])"
   ]
  },
  {
   "cell_type": "code",
   "execution_count": 9,
   "metadata": {
    "collapsed": true
   },
   "outputs": [],
   "source": [
    "for l in range(X.shape[1]):\n",
    "    X[:, l] = ( X[:, l] - min(X[:, l]))/(max(X[:, l]) - min(X[:, l]))"
   ]
  },
  {
   "cell_type": "code",
   "execution_count": 10,
   "metadata": {
    "collapsed": true
   },
   "outputs": [],
   "source": [
    "n = X.shape[0]\n",
    "test = int(0.30*n)          \n",
    "perm = rn.permutation(n)   \n",
    "X = X[perm]\n",
    "y = y[perm]\n",
    "X_test = X[:test]      \n",
    "y_test = y[:test]\n",
    "X_train = X[test:]   \n",
    "y_train = y[test:]"
   ]
  },
  {
   "cell_type": "code",
   "execution_count": 11,
   "metadata": {
    "collapsed": true
   },
   "outputs": [],
   "source": [
    "def plot_reg_model(reg, X_train, y_train, X_test, y_test):\n",
    "    \n",
    "    h = 0.01 \n",
    "    \n",
    "    x_min, x_max = -0.1, 1.1\n",
    "    y_min, y_max = -0.1, 1.1\n",
    "    xx, yy = np.meshgrid(np.arange(x_min, x_max, h),\n",
    "        np.arange(y_min, y_max, h))\n",
    "    Z = reg.predict(np.c_[xx.ravel(), yy.ravel()])\n",
    "\n",
    "    Z = Z.reshape(xx.shape)\n",
    "\n",
    "    plt.figure(figsize=(8, 6))\n",
    "    plt.contour(xx, yy, Z)\n",
    "    \n",
    "    plt.scatter(X_train[:, 0], X_train[:, 1], c=y_train, marker='o')\n",
    "    plt.scatter(X_test[:, 0], X_test[:, 1], c=y_test, marker='+');\n",
    "    \n",
    "    print('Training R2: {}'.format(reg.score(X_train, y_train)))\n",
    "    print('Testing R2: {}'.format(reg.score(X_test, y_test)))"
   ]
  },
  {
   "cell_type": "code",
   "execution_count": 12,
   "metadata": {},
   "outputs": [
    {
     "name": "stdout",
     "output_type": "stream",
     "text": [
      "Training R2: 0.6592982666287416\n",
      "Testing R2: 0.6680886178687546\n"
     ]
    }
   ],
   "source": [
    "reg = KNeighborsRegressor(n_neighbors=100)\n",
    "reg.fit(X_train, y_train)\n",
    "plot_reg_model(reg, X_train, y_train, X_test, y_test)"
   ]
  },
  {
   "cell_type": "markdown",
   "metadata": {},
   "source": [
    "#### Cross Validation"
   ]
  },
  {
   "cell_type": "code",
   "execution_count": 13,
   "metadata": {},
   "outputs": [
    {
     "name": "stdout",
     "output_type": "stream",
     "text": [
      "KNN Mean R2: 0.6814245284708472\n",
      "KNN Standard Deviation R2: 0.0423092817477741\n"
     ]
    }
   ],
   "source": [
    "knn = cross_val_score(reg, X, y, cv=20)\n",
    "print('KNN Mean R2: {}'.format(knn.mean()))\n",
    "print('KNN Standard Deviation R2: {}'.format(knn.std()))"
   ]
  },
  {
   "cell_type": "code",
   "execution_count": 14,
   "metadata": {
    "collapsed": true
   },
   "outputs": [],
   "source": [
    "X = np.array(fifa[['Ball control', 'Agility']])\n",
    "y = np.array(fifa.iloc[:, 3])"
   ]
  },
  {
   "cell_type": "code",
   "execution_count": 15,
   "metadata": {
    "collapsed": true
   },
   "outputs": [],
   "source": [
    "for l in range(X.shape[1]):\n",
    "    X[:, l] = ( X[:, l] - min(X[:, l]))/(max(X[:, l]) - min(X[:, l]))"
   ]
  },
  {
   "cell_type": "code",
   "execution_count": 16,
   "metadata": {
    "collapsed": true
   },
   "outputs": [],
   "source": [
    "n = X.shape[0]\n",
    "test = int(0.30*n)          \n",
    "perm = rn.permutation(n)   \n",
    "X = X[perm]\n",
    "y = y[perm]\n",
    "X_test = X[:test]       \n",
    "y_test = y[:test]\n",
    "X_train = X[test:]     \n",
    "y_train = y[test:]"
   ]
  },
  {
   "cell_type": "code",
   "execution_count": 17,
   "metadata": {},
   "outputs": [
    {
     "name": "stdout",
     "output_type": "stream",
     "text": [
      "Training R2: 0.5417829584536835\n",
      "Testing R2: 0.5119058759638677\n"
     ]
    }
   ],
   "source": [
    "reg1 = KNeighborsRegressor(n_neighbors=25)\n",
    "reg1.fit(X_train, y_train)\n",
    "plot_reg_model(reg1, X_train, y_train, X_test, y_test)"
   ]
  },
  {
   "cell_type": "markdown",
   "metadata": {},
   "source": [
    "#### Cross Validation"
   ]
  },
  {
   "cell_type": "code",
   "execution_count": 18,
   "metadata": {},
   "outputs": [
    {
     "name": "stdout",
     "output_type": "stream",
     "text": [
      "KNN Mean R2: 0.5056440515288595\n",
      "KNN Standard Deviation R2: 0.0230497785563941\n"
     ]
    }
   ],
   "source": [
    "knn = cross_val_score(reg1, X, y, cv=20)\n",
    "print('KNN Mean R2: {}'.format(knn.mean()))\n",
    "print('KNN Standard Deviation R2: {}'.format(knn.std()))"
   ]
  },
  {
   "cell_type": "markdown",
   "metadata": {},
   "source": [
    "## PCA Model\n",
    "* PCA Model with colums 7,8,9 vs Age"
   ]
  },
  {
   "cell_type": "code",
   "execution_count": 19,
   "metadata": {
    "collapsed": true
   },
   "outputs": [],
   "source": [
    "X = np.array(fifa.iloc[:,7:10])\n",
    "y = np.array(fifa.iloc[:, 1])\n",
    "\n",
    "pca = PCA(n_components=2)\n",
    "Xpca = pca.fit_transform(X);\n",
    "\n",
    "import numpy.random as rn\n",
    "n = X.shape[0]\n",
    "test = int(0.25*n)          \n",
    "perm = rn.permutation(n)   \n",
    "X = Xpca[perm]\n",
    "y = y[perm]\n",
    "X_test = Xpca[:test]     \n",
    "y_test = y[:test]\n",
    "X_train = Xpca[test:]   \n",
    "y_train = y[test:]\n"
   ]
  },
  {
   "cell_type": "code",
   "execution_count": 20,
   "metadata": {},
   "outputs": [
    {
     "data": {
      "text/plain": [
       "(0.083197389885807507, 0.08097886540600667)"
      ]
     },
     "execution_count": 20,
     "metadata": {},
     "output_type": "execute_result"
    }
   ],
   "source": [
    "cat1 = LogisticRegression(solver='liblinear', multi_class='ovr').fit(X_train[:, 0:2], y_train)\n",
    "cat1.score(X_train[:, 0:2], y_train), cat1.score(X_test[:, 0:2], y_test)"
   ]
  },
  {
   "cell_type": "code",
   "execution_count": 21,
   "metadata": {
    "collapsed": true
   },
   "outputs": [],
   "source": [
    "def plot_reg_model(reg, X_train, y_train, X_test, y_test):\n",
    "\n",
    "    h = 0.01 \n",
    "    \n",
    "    x_min, x_max = -40.0, 40.0\n",
    "    y_min, y_max = -20.0, 20.0\n",
    "    xx, yy = np.meshgrid(np.arange(x_min, x_max, h),\n",
    "        np.arange(y_min, y_max, h))\n",
    "    Z = reg.predict(np.c_[xx.ravel(), yy.ravel()])\n",
    "\n",
    "    Z = Z.reshape(xx.shape)\n",
    "\n",
    "    plt.figure(figsize=(8, 6))\n",
    "    plt.contour(xx, yy, Z)\n",
    "    \n",
    "    plt.scatter(X_train[:, 0], X_train[:, 1], c=y_train, marker='o')\n",
    "    plt.scatter(X_test[:, 0], X_test[:, 1], c=y_test, marker='+');\n",
    "    \n",
    "    print('Training R2: {}'.format(reg.score(X_train, y_train)))\n",
    "    print('Testing R2: {}'.format(reg.score(X_test, y_test)))"
   ]
  },
  {
   "cell_type": "code",
   "execution_count": 22,
   "metadata": {},
   "outputs": [
    {
     "name": "stdout",
     "output_type": "stream",
     "text": [
      "Training R2: 9.737843962831505e-05\n",
      "Testing R2: -0.0073887372375158735\n"
     ]
    }
   ],
   "source": [
    "reg = LinearRegression()\n",
    "reg.fit(X_train,y_train)\n",
    "plot_reg_model(reg, X_train, y_train, X_test, y_test)"
   ]
  },
  {
   "cell_type": "markdown",
   "metadata": {},
   "source": [
    "#### Cross Validation"
   ]
  },
  {
   "cell_type": "code",
   "execution_count": 23,
   "metadata": {},
   "outputs": [
    {
     "name": "stdout",
     "output_type": "stream",
     "text": [
      "PCA Mean R2: 0.03860141727167922\n",
      "PCA Standard Deviation R2: 0.0056116538256946276\n"
     ]
    }
   ],
   "source": [
    "pca = cross_val_score(reg, X, y, cv=10)\n",
    "print('PCA Mean R2: {}'.format(pca.mean()))\n",
    "print('PCA Standard Deviation R2: {}'.format(pca.std()))"
   ]
  },
  {
   "cell_type": "markdown",
   "metadata": {},
   "source": [
    "* PCA Model With Columns 10,11,12 vs Age"
   ]
  },
  {
   "cell_type": "code",
   "execution_count": 24,
   "metadata": {
    "collapsed": true
   },
   "outputs": [],
   "source": [
    "X = np.array(fifa.iloc[:,10:13])                        \n",
    "y = np.array(fifa.iloc[:, 1])\n",
    "\n",
    "pca = PCA(n_components=2) \n",
    "Xpca = pca.fit_transform(X);\n",
    "\n",
    "import numpy.random as rn\n",
    "n = X.shape[0]\n",
    "test = int(0.25*n)            \n",
    "perm = rn.permutation(n)   \n",
    "X = Xpca[perm]\n",
    "y = y[perm]\n",
    "X_test = Xpca[:test]      \n",
    "y_test = y[:test]\n",
    "X_train = Xpca[test:]    \n",
    "y_train = y[test:]\n"
   ]
  },
  {
   "cell_type": "code",
   "execution_count": 25,
   "metadata": {},
   "outputs": [
    {
     "data": {
      "text/plain": [
       "(0.079860596173809875, 0.088320355951056737)"
      ]
     },
     "execution_count": 25,
     "metadata": {},
     "output_type": "execute_result"
    }
   ],
   "source": [
    "cat2 = LogisticRegression(solver='liblinear', multi_class='ovr').fit(X_train[:, 0:2], y_train)\n",
    "cat2.score(X_train[:, 0:2], y_train), cat1.score(X_test[:, 0:2], y_test)"
   ]
  },
  {
   "cell_type": "code",
   "execution_count": 26,
   "metadata": {},
   "outputs": [
    {
     "name": "stdout",
     "output_type": "stream",
     "text": [
      "Training R2: 6.775209568654628e-05\n",
      "Testing R2: -0.0017958303912648521\n"
     ]
    }
   ],
   "source": [
    "reg2 = LinearRegression()\n",
    "reg2.fit(X_train,y_train)\n",
    "plot_reg_model(reg2, X_train, y_train, X_test, y_test)"
   ]
  },
  {
   "cell_type": "markdown",
   "metadata": {},
   "source": [
    "#### Cross Validation"
   ]
  },
  {
   "cell_type": "code",
   "execution_count": 27,
   "metadata": {},
   "outputs": [
    {
     "name": "stdout",
     "output_type": "stream",
     "text": [
      "PCA Mean R2: 0.033635783816\n",
      "PCA Standard Deviation R2: 0.0066551921192006\n"
     ]
    }
   ],
   "source": [
    "pca = cross_val_score(reg2, X, y, cv=10)\n",
    "print('PCA Mean R2: {}'.format(pca.mean()))\n",
    "print('PCA Standard Deviation R2: {}'.format(pca.std()))"
   ]
  },
  {
   "cell_type": "markdown",
   "metadata": {},
   "source": [
    "### Regression Models Liner, Ridge, and Lasso"
   ]
  },
  {
   "cell_type": "code",
   "execution_count": 28,
   "metadata": {
    "collapsed": true
   },
   "outputs": [],
   "source": [
    "X = np.array(fifa[['Age', 'Overall']])\n",
    "y = np.array(fifa['Wage'])"
   ]
  },
  {
   "cell_type": "code",
   "execution_count": 29,
   "metadata": {
    "collapsed": true
   },
   "outputs": [],
   "source": [
    "def plot_reg_model(reg, X, y):\n",
    "\n",
    "\n",
    "    n = X.shape[0]\n",
    "    test = int(0.20*n)           \n",
    "    perm = rn.permutation(n)   \n",
    "    X = X[perm]\n",
    "    y = y[perm]\n",
    "    X_test = X[:test]      \n",
    "    y_test = y[:test]\n",
    "    X_train = X[test:]     \n",
    "    y_train = y[test:]\n",
    "    \n",
    "    reg.fit(X_train, y_train) \n",
    "     \n",
    "    nn = 200\n",
    "    \n",
    "    x_min, x_max = X[:, 0].min()-0.1, X[:, 0].max()+0.1\n",
    "    y_min, y_max = X[:, 1].min()-0.1, X[:, 1].max()+0.1\n",
    "    xx, yy = np.meshgrid(np.linspace(x_min, x_max, nn),   \n",
    "        np.linspace(y_min, y_max, nn))                    \n",
    "    Z = reg.predict(np.c_[xx.ravel(), yy.ravel()]) \n",
    "\n",
    "    Z = Z.reshape(xx.shape)\n",
    "\n",
    "    plt.figure(figsize=(8, 6))\n",
    "    plt.contour(xx, yy, Z)\n",
    "    \n",
    "    plt.scatter(X_train[:, 0], X_train[:, 1], c=y_train, marker='o')\n",
    "    plt.scatter(X_test[:, 0], X_test[:, 1], c=y_test, marker='+');\n",
    "    \n",
    "    print('Training R2: {}'.format(reg.score(X_train, y_train)))\n",
    "    print('Testing R2: {}'.format(reg.score(X_test, y_test)))\n",
    "    \n",
    "    return reg"
   ]
  },
  {
   "cell_type": "code",
   "execution_count": 30,
   "metadata": {},
   "outputs": [
    {
     "name": "stdout",
     "output_type": "stream",
     "text": [
      "Training R2: 0.3669833757909776\n",
      "Testing R2: 0.3932160534635045\n"
     ]
    },
    {
     "data": {
      "text/plain": [
       "LinearRegression(copy_X=True, fit_intercept=True, n_jobs=1, normalize=False)"
      ]
     },
     "execution_count": 30,
     "metadata": {},
     "output_type": "execute_result"
    }
   ],
   "source": [
    "reg = LinearRegression()\n",
    "plot_reg_model(reg, X, y)"
   ]
  },
  {
   "cell_type": "code",
   "execution_count": 31,
   "metadata": {},
   "outputs": [
    {
     "name": "stdout",
     "output_type": "stream",
     "text": [
      "Training R2: 0.3758218833275556\n",
      "Testing R2: 0.35706680010006386\n"
     ]
    },
    {
     "data": {
      "text/plain": [
       "Ridge(alpha=2, copy_X=True, fit_intercept=True, max_iter=None,\n",
       "   normalize=False, random_state=None, solver='auto', tol=0.001)"
      ]
     },
     "execution_count": 31,
     "metadata": {},
     "output_type": "execute_result"
    }
   ],
   "source": [
    "ridge_reg = Ridge(alpha=2)\n",
    "plot_reg_model(ridge_reg, X, y)"
   ]
  },
  {
   "cell_type": "code",
   "execution_count": 32,
   "metadata": {},
   "outputs": [
    {
     "name": "stdout",
     "output_type": "stream",
     "text": [
      "Training R2: 0.36897094940994823\n",
      "Testing R2: 0.3827030598064625\n"
     ]
    },
    {
     "data": {
      "text/plain": [
       "Lasso(alpha=1, copy_X=True, fit_intercept=True, max_iter=1000,\n",
       "   normalize=False, positive=False, precompute=False, random_state=None,\n",
       "   selection='cyclic', tol=0.0001, warm_start=False)"
      ]
     },
     "execution_count": 32,
     "metadata": {},
     "output_type": "execute_result"
    }
   ],
   "source": [
    "lasso_reg=Lasso(alpha=1)\n",
    "plot_reg_model(lasso_reg, X, y)"
   ]
  },
  {
   "cell_type": "code",
   "execution_count": 33,
   "metadata": {},
   "outputs": [
    {
     "name": "stdout",
     "output_type": "stream",
     "text": [
      "Training R2: 0.7619530068554001\n",
      "Testing R2: 0.7196023838521335\n"
     ]
    },
    {
     "data": {
      "text/plain": [
       "KNeighborsRegressor(algorithm='auto', leaf_size=30, metric='minkowski',\n",
       "          metric_params=None, n_jobs=1, n_neighbors=10, p=2,\n",
       "          weights='uniform')"
      ]
     },
     "execution_count": 33,
     "metadata": {},
     "output_type": "execute_result"
    }
   ],
   "source": [
    "knn = KNeighborsRegressor(n_neighbors=10)\n",
    "plot_reg_model(knn, X, y)"
   ]
  },
  {
   "cell_type": "code",
   "execution_count": 34,
   "metadata": {},
   "outputs": [
    {
     "name": "stdout",
     "output_type": "stream",
     "text": [
      "Training R2: 0.7737315418578755\n",
      "Testing R2: 0.7283026490989915\n"
     ]
    },
    {
     "data": {
      "text/plain": [
       "DecisionTreeRegressor(criterion='mse', max_depth=None, max_features=None,\n",
       "           max_leaf_nodes=None, min_impurity_split=1e-07,\n",
       "           min_samples_leaf=5, min_samples_split=2,\n",
       "           min_weight_fraction_leaf=0.0, presort=False, random_state=None,\n",
       "           splitter='best')"
      ]
     },
     "execution_count": 34,
     "metadata": {},
     "output_type": "execute_result"
    }
   ],
   "source": [
    "tree = DecisionTreeRegressor(min_samples_leaf=5)\n",
    "plot_reg_model(tree, X, y)"
   ]
  },
  {
   "cell_type": "markdown",
   "metadata": {},
   "source": [
    "#### Cross Validation"
   ]
  },
  {
   "cell_type": "code",
   "execution_count": 59,
   "metadata": {},
   "outputs": [
    {
     "ename": "TypeError",
     "evalue": "estimator should be an estimator implementing 'fit' method, array([-0.31919328, -0.17248263, -0.09630928, -0.04777462, -0.25624203,\n       -0.07953845, -0.14363067, -0.09929756, -1.92646246, -0.28579747]) was passed",
     "output_type": "error",
     "traceback": [
      "\u001b[1;31m---------------------------------------------------------------------------\u001b[0m",
      "\u001b[1;31mTypeError\u001b[0m                                 Traceback (most recent call last)",
      "\u001b[1;32m<ipython-input-59-3ff02570a86a>\u001b[0m in \u001b[0;36m<module>\u001b[1;34m()\u001b[0m\n\u001b[0;32m      2\u001b[0m \u001b[0mridge\u001b[0m \u001b[1;33m=\u001b[0m \u001b[0mcross_val_score\u001b[0m\u001b[1;33m(\u001b[0m\u001b[0mridge_reg\u001b[0m\u001b[1;33m,\u001b[0m \u001b[0mX\u001b[0m\u001b[1;33m,\u001b[0m \u001b[0my\u001b[0m\u001b[1;33m,\u001b[0m \u001b[0mcv\u001b[0m\u001b[1;33m=\u001b[0m\u001b[1;36m10\u001b[0m\u001b[1;33m)\u001b[0m\u001b[1;33m\u001b[0m\u001b[0m\n\u001b[0;32m      3\u001b[0m \u001b[0mLASSO\u001b[0m \u001b[1;33m=\u001b[0m \u001b[0mcross_val_score\u001b[0m\u001b[1;33m(\u001b[0m\u001b[0mlasso_reg\u001b[0m\u001b[1;33m,\u001b[0m \u001b[0mX\u001b[0m\u001b[1;33m,\u001b[0m \u001b[0my\u001b[0m\u001b[1;33m,\u001b[0m \u001b[0mcv\u001b[0m\u001b[1;33m=\u001b[0m\u001b[1;36m10\u001b[0m\u001b[1;33m)\u001b[0m\u001b[1;33m\u001b[0m\u001b[0m\n\u001b[1;32m----> 4\u001b[1;33m \u001b[0mTREE\u001b[0m \u001b[1;33m=\u001b[0m \u001b[0mcross_val_score\u001b[0m\u001b[1;33m(\u001b[0m\u001b[0mtree\u001b[0m\u001b[1;33m,\u001b[0m \u001b[0mX\u001b[0m\u001b[1;33m,\u001b[0m \u001b[0my\u001b[0m\u001b[1;33m,\u001b[0m \u001b[0mcv\u001b[0m\u001b[1;33m=\u001b[0m\u001b[1;36m10\u001b[0m\u001b[1;33m)\u001b[0m\u001b[1;33m\u001b[0m\u001b[0m\n\u001b[0m",
      "\u001b[1;32mC:\\ProgramData\\Anaconda3\\lib\\site-packages\\sklearn\\model_selection\\_validation.py\u001b[0m in \u001b[0;36mcross_val_score\u001b[1;34m(estimator, X, y, groups, scoring, cv, n_jobs, verbose, fit_params, pre_dispatch)\u001b[0m\n\u001b[0;32m    130\u001b[0m     \u001b[0mcv\u001b[0m \u001b[1;33m=\u001b[0m \u001b[0mcheck_cv\u001b[0m\u001b[1;33m(\u001b[0m\u001b[0mcv\u001b[0m\u001b[1;33m,\u001b[0m \u001b[0my\u001b[0m\u001b[1;33m,\u001b[0m \u001b[0mclassifier\u001b[0m\u001b[1;33m=\u001b[0m\u001b[0mis_classifier\u001b[0m\u001b[1;33m(\u001b[0m\u001b[0mestimator\u001b[0m\u001b[1;33m)\u001b[0m\u001b[1;33m)\u001b[0m\u001b[1;33m\u001b[0m\u001b[0m\n\u001b[0;32m    131\u001b[0m     \u001b[0mcv_iter\u001b[0m \u001b[1;33m=\u001b[0m \u001b[0mlist\u001b[0m\u001b[1;33m(\u001b[0m\u001b[0mcv\u001b[0m\u001b[1;33m.\u001b[0m\u001b[0msplit\u001b[0m\u001b[1;33m(\u001b[0m\u001b[0mX\u001b[0m\u001b[1;33m,\u001b[0m \u001b[0my\u001b[0m\u001b[1;33m,\u001b[0m \u001b[0mgroups\u001b[0m\u001b[1;33m)\u001b[0m\u001b[1;33m)\u001b[0m\u001b[1;33m\u001b[0m\u001b[0m\n\u001b[1;32m--> 132\u001b[1;33m     \u001b[0mscorer\u001b[0m \u001b[1;33m=\u001b[0m \u001b[0mcheck_scoring\u001b[0m\u001b[1;33m(\u001b[0m\u001b[0mestimator\u001b[0m\u001b[1;33m,\u001b[0m \u001b[0mscoring\u001b[0m\u001b[1;33m=\u001b[0m\u001b[0mscoring\u001b[0m\u001b[1;33m)\u001b[0m\u001b[1;33m\u001b[0m\u001b[0m\n\u001b[0m\u001b[0;32m    133\u001b[0m     \u001b[1;31m# We clone the estimator to make sure that all the folds are\u001b[0m\u001b[1;33m\u001b[0m\u001b[1;33m\u001b[0m\u001b[0m\n\u001b[0;32m    134\u001b[0m     \u001b[1;31m# independent, and that it is pickle-able.\u001b[0m\u001b[1;33m\u001b[0m\u001b[1;33m\u001b[0m\u001b[0m\n",
      "\u001b[1;32mC:\\ProgramData\\Anaconda3\\lib\\site-packages\\sklearn\\metrics\\scorer.py\u001b[0m in \u001b[0;36mcheck_scoring\u001b[1;34m(estimator, scoring, allow_none)\u001b[0m\n\u001b[0;32m    248\u001b[0m     \u001b[1;32mif\u001b[0m \u001b[1;32mnot\u001b[0m \u001b[0mhasattr\u001b[0m\u001b[1;33m(\u001b[0m\u001b[0mestimator\u001b[0m\u001b[1;33m,\u001b[0m \u001b[1;34m'fit'\u001b[0m\u001b[1;33m)\u001b[0m\u001b[1;33m:\u001b[0m\u001b[1;33m\u001b[0m\u001b[0m\n\u001b[0;32m    249\u001b[0m         raise TypeError(\"estimator should be an estimator implementing \"\n\u001b[1;32m--> 250\u001b[1;33m                         \"'fit' method, %r was passed\" % estimator)\n\u001b[0m\u001b[0;32m    251\u001b[0m     \u001b[1;32mif\u001b[0m \u001b[0misinstance\u001b[0m\u001b[1;33m(\u001b[0m\u001b[0mscoring\u001b[0m\u001b[1;33m,\u001b[0m \u001b[0msix\u001b[0m\u001b[1;33m.\u001b[0m\u001b[0mstring_types\u001b[0m\u001b[1;33m)\u001b[0m\u001b[1;33m:\u001b[0m\u001b[1;33m\u001b[0m\u001b[0m\n\u001b[0;32m    252\u001b[0m         \u001b[1;32mreturn\u001b[0m \u001b[0mget_scorer\u001b[0m\u001b[1;33m(\u001b[0m\u001b[0mscoring\u001b[0m\u001b[1;33m)\u001b[0m\u001b[1;33m\u001b[0m\u001b[0m\n",
      "\u001b[1;31mTypeError\u001b[0m: estimator should be an estimator implementing 'fit' method, array([-0.31919328, -0.17248263, -0.09630928, -0.04777462, -0.25624203,\n       -0.07953845, -0.14363067, -0.09929756, -1.92646246, -0.28579747]) was passed"
     ]
    }
   ],
   "source": [
    "lreg = cross_val_score(reg, X, y, cv=10)\n",
    "ridge = cross_val_score(ridge_reg, X, y, cv=10)\n",
    "LASSO = cross_val_score(lasso_reg, X, y, cv=10)\n",
    "TREE = cross_val_score(tree, X, y, cv=10)"
   ]
  },
  {
   "cell_type": "code",
   "execution_count": null,
   "metadata": {
    "collapsed": true
   },
   "outputs": [],
   "source": [
    "print('Linear Regression Mean R2: {}'.format(lreg.mean()))\n",
    "print('Linear Regression Standard Deviation R2: {}'.format(lreg.std()))"
   ]
  },
  {
   "cell_type": "code",
   "execution_count": 36,
   "metadata": {},
   "outputs": [
    {
     "name": "stdout",
     "output_type": "stream",
     "text": [
      "Ridge Mean R2: -83.31767530533004\n",
      "Ridge Standard Deviation R2: 237.0169155046805\n"
     ]
    }
   ],
   "source": [
    "print('Ridge Mean R2: {}'.format(ridge.mean()))\n",
    "print('Ridge Standard Deviation R2: {}'.format(ridge.std()))"
   ]
  },
  {
   "cell_type": "code",
   "execution_count": 37,
   "metadata": {},
   "outputs": [
    {
     "name": "stdout",
     "output_type": "stream",
     "text": [
      "Lasso Mean R2: -81.03511768363349\n",
      "Lasso Standard Deviation R2: 230.99397781248348\n"
     ]
    }
   ],
   "source": [
    "print('Lasso Mean R2: {}'.format(LASSO.mean()))\n",
    "print('Lasso Standard Deviation R2: {}'.format(LASSO.std()))"
   ]
  },
  {
   "cell_type": "code",
   "execution_count": 38,
   "metadata": {},
   "outputs": [
    {
     "name": "stdout",
     "output_type": "stream",
     "text": [
      "Tree Mean R2: -0.09281349373616797\n",
      "Tree Standard Deviation R2: 0.093042535633659\n"
     ]
    }
   ],
   "source": [
    "print('Tree Mean R2: {}'.format(TREE.mean()))\n",
    "print('Tree Standard Deviation R2: {}'.format(TREE.std()))"
   ]
  },
  {
   "cell_type": "markdown",
   "metadata": {},
   "source": [
    "## Nueral Networks"
   ]
  },
  {
   "cell_type": "code",
   "execution_count": 39,
   "metadata": {
    "collapsed": true
   },
   "outputs": [],
   "source": [
    "X = np.array(fifa[['Agility', 'Overall']])\n",
    "y = np.array(fifa['Wage'])"
   ]
  },
  {
   "cell_type": "code",
   "execution_count": 40,
   "metadata": {
    "collapsed": true
   },
   "outputs": [],
   "source": [
    "def plot_reg_model(reg, X, y):\n",
    "\n",
    "\n",
    "    n = X.shape[0]\n",
    "    test = int(0.20*n)          \n",
    "    perm = rn.permutation(n)   \n",
    "    X = X[perm]\n",
    "    y = y[perm]\n",
    "    X_test = X[:test]     \n",
    "    y_test = y[:test]\n",
    "    X_train = X[test:]   \n",
    "    y_train = y[test:]\n",
    "    \n",
    "    reg.fit(X_train, y_train) \n",
    "     \n",
    "    nn = 200\n",
    "   \n",
    "    x_min, x_max = X[:, 0].min()-0.1, X[:, 0].max()+0.1\n",
    "    y_min, y_max = X[:, 1].min()-0.1, X[:, 1].max()+0.1\n",
    "    xx, yy = np.meshgrid(np.linspace(x_min, x_max, nn),   \n",
    "        np.linspace(y_min, y_max, nn))                    \n",
    "    Z = reg.predict(np.c_[xx.ravel(), yy.ravel()]) \n",
    "   \n",
    "    Z = Z.reshape(xx.shape)\n",
    "\n",
    "    plt.figure(figsize=(8, 6))\n",
    "    plt.contour(xx, yy, Z)\n",
    "    \n",
    "    plt.scatter(X_train[:, 0], X_train[:, 1], c=y_train, marker='o')\n",
    "    plt.scatter(X_test[:, 0], X_test[:, 1], c=y_test, marker='+');\n",
    "    \n",
    "    print('Training R2: {}'.format(reg.score(X_train, y_train)))\n",
    "    print('Testing R2: {}'.format(reg.score(X_test, y_test)))\n",
    "    \n",
    "    return reg"
   ]
  },
  {
   "cell_type": "markdown",
   "metadata": {},
   "source": [
    "### Nueral Network Ridge Regression"
   ]
  },
  {
   "cell_type": "code",
   "execution_count": 41,
   "metadata": {},
   "outputs": [
    {
     "name": "stdout",
     "output_type": "stream",
     "text": [
      "Training R2: 0.35474001383926657\n",
      "Testing R2: 0.3453986917759261\n"
     ]
    }
   ],
   "source": [
    "r_reg = Ridge(alpha=2)\n",
    "plot_reg_model(r_reg, X, y);\n",
    "plt.savefig('15.2.png')"
   ]
  },
  {
   "cell_type": "code",
   "execution_count": 42,
   "metadata": {},
   "outputs": [
    {
     "name": "stdout",
     "output_type": "stream",
     "text": [
      "Ridge Mean R2: -89.69855976614755\n",
      "Ridge Standard Deviation R2: 257.05798743335185\n"
     ]
    }
   ],
   "source": [
    "ridge = cross_val_score(r_reg, X, y, cv=10)\n",
    "print('Ridge Mean R2: {}'.format(ridge.mean()))\n",
    "print('Ridge Standard Deviation R2: {}'.format(ridge.std()))"
   ]
  },
  {
   "cell_type": "markdown",
   "metadata": {},
   "source": [
    "### Nueral Network Lasso Regression"
   ]
  },
  {
   "cell_type": "code",
   "execution_count": 43,
   "metadata": {},
   "outputs": [
    {
     "name": "stdout",
     "output_type": "stream",
     "text": [
      "Training R2: 0.35631975384252834\n",
      "Testing R2: 0.340214996265659\n"
     ]
    }
   ],
   "source": [
    "l_reg=Lasso(alpha=1)\n",
    "plot_reg_model(l_reg, X, y);\n",
    "plt.savefig('15.3.png')"
   ]
  },
  {
   "cell_type": "code",
   "execution_count": 44,
   "metadata": {},
   "outputs": [
    {
     "name": "stdout",
     "output_type": "stream",
     "text": [
      "Lasso Mean R2: -86.86846732479378\n",
      "Lasso Standard Deviation R2: 248.97339510556557\n"
     ]
    }
   ],
   "source": [
    "lasso = cross_val_score(l_reg, X, y, cv=10)\n",
    "print('Lasso Mean R2: {}'.format(lasso.mean()))\n",
    "print('Lasso Standard Deviation R2: {}'.format(lasso.std()))"
   ]
  },
  {
   "cell_type": "markdown",
   "metadata": {},
   "source": [
    "### Nueral Network K-nearest Neighbors Regression"
   ]
  },
  {
   "cell_type": "code",
   "execution_count": 45,
   "metadata": {},
   "outputs": [
    {
     "name": "stdout",
     "output_type": "stream",
     "text": [
      "Training R2: 0.7673038560017927\n",
      "Testing R2: 0.7289700578452859\n"
     ]
    }
   ],
   "source": [
    "knn = KNeighborsRegressor(n_neighbors=6)\n",
    "plot_reg_model(knn, X, y);\n",
    "plt.savefig('15.4.png')"
   ]
  },
  {
   "cell_type": "code",
   "execution_count": 46,
   "metadata": {},
   "outputs": [
    {
     "name": "stdout",
     "output_type": "stream",
     "text": [
      "KNN Mean R2: -0.2503245935877572\n",
      "KNN Standard Deviation R2: 0.11359501797490984\n"
     ]
    }
   ],
   "source": [
    "knn = cross_val_score(knn, X, y, cv=10)\n",
    "print('KNN Mean R2: {}'.format(knn.mean()))\n",
    "print('KNN Standard Deviation R2: {}'.format(knn.std()))"
   ]
  },
  {
   "cell_type": "markdown",
   "metadata": {},
   "source": [
    "### Nueral Network Decision Tree Regression"
   ]
  },
  {
   "cell_type": "code",
   "execution_count": 47,
   "metadata": {},
   "outputs": [
    {
     "name": "stdout",
     "output_type": "stream",
     "text": [
      "Training R2: 0.8276996467672159\n",
      "Testing R2: 0.7059297012291045\n"
     ]
    }
   ],
   "source": [
    "tree = DecisionTreeRegressor(max_depth=10)\n",
    "plot_reg_model(tree, X, y);"
   ]
  },
  {
   "cell_type": "code",
   "execution_count": 48,
   "metadata": {},
   "outputs": [
    {
     "name": "stdout",
     "output_type": "stream",
     "text": [
      "Tree Mean R2: -0.34267284444441587\n",
      "Tree Standard Deviation R2: 0.5351971245281321\n"
     ]
    }
   ],
   "source": [
    "tree = cross_val_score(tree, X, y, cv=10)\n",
    "print('Tree Mean R2: {}'.format(tree.mean()))\n",
    "print('Tree Standard Deviation R2: {}'.format(tree.std()))"
   ]
  },
  {
   "cell_type": "markdown",
   "metadata": {},
   "source": [
    "### Ensemble Methods"
   ]
  },
  {
   "cell_type": "code",
   "execution_count": 49,
   "metadata": {},
   "outputs": [
    {
     "name": "stdout",
     "output_type": "stream",
     "text": [
      "Training R2: 0.7551948310029237\n",
      "Testing R2: 0.7330168650242256\n"
     ]
    }
   ],
   "source": [
    "forest = RandomForestRegressor(n_estimators=100, max_depth=3, n_jobs=-1)\n",
    "plot_reg_model(forest, X, y);\n",
    "plt.savefig('15.6.png')"
   ]
  },
  {
   "cell_type": "code",
   "execution_count": 50,
   "metadata": {},
   "outputs": [
    {
     "name": "stdout",
     "output_type": "stream",
     "text": [
      "Ensemble Mean R2: -0.5731684135549064\n",
      "Ensemble Standard Deviation R2: 0.9784218831243557\n"
     ]
    }
   ],
   "source": [
    "Ensemble = cross_val_score(forest, X, y, cv=10)\n",
    "print('Ensemble Mean R2: {}'.format(Ensemble.mean()))\n",
    "print('Ensemble Standard Deviation R2: {}'.format(Ensemble.std()))"
   ]
  },
  {
   "cell_type": "markdown",
   "metadata": {},
   "source": [
    "### Gradient Boosting Esamble Network Model"
   ]
  },
  {
   "cell_type": "code",
   "execution_count": 51,
   "metadata": {},
   "outputs": [
    {
     "name": "stdout",
     "output_type": "stream",
     "text": [
      "Training R2: 0.8202534675627411\n",
      "Testing R2: 0.700207913819644\n"
     ]
    }
   ],
   "source": [
    "boost = GradientBoostingRegressor(n_estimators=50, learning_rate=0.1, max_depth=5)\n",
    "plot_reg_model(boost, X, y);\n",
    "plt.savefig('15.7.png')"
   ]
  },
  {
   "cell_type": "code",
   "execution_count": 52,
   "metadata": {},
   "outputs": [
    {
     "name": "stdout",
     "output_type": "stream",
     "text": [
      "Boost Mean R2: -0.10927113584264103\n",
      "Boost Standard Deviation R2: 0.1313927757003617\n"
     ]
    }
   ],
   "source": [
    "Boost = cross_val_score(boost, X, y, cv=10)\n",
    "print('Boost Mean R2: {}'.format(Boost.mean()))\n",
    "print('Boost Standard Deviation R2: {}'.format(Boost.std()))"
   ]
  },
  {
   "cell_type": "markdown",
   "metadata": {},
   "source": [
    "### Nueral Networks for Regression"
   ]
  },
  {
   "cell_type": "code",
   "execution_count": 53,
   "metadata": {
    "collapsed": true
   },
   "outputs": [],
   "source": [
    "X = np.array(fifa[['Age', 'Overall']])\n",
    "y = np.array(fifa['Wage'])"
   ]
  },
  {
   "cell_type": "code",
   "execution_count": 54,
   "metadata": {
    "collapsed": true
   },
   "outputs": [],
   "source": [
    "v = [0]*X.shape[1]\n",
    "for k in range(X.shape[1]):\n",
    "    M = X[:, k].max()\n",
    "    m = X[:, k].min()\n",
    "    v[k] = (X[:, k] - m)/(M - m)\n",
    "Xn = np.c_[v].transpose()  "
   ]
  },
  {
   "cell_type": "code",
   "execution_count": 55,
   "metadata": {},
   "outputs": [
    {
     "name": "stdout",
     "output_type": "stream",
     "text": [
      "Training R2: 0.7666585949632214\n",
      "Testing R2: 0.7005058249197871\n"
     ]
    }
   ],
   "source": [
    "mlp = MLPRegressor(hidden_layer_sizes = (100), solver = 'lbfgs', activation = 'relu', alpha=0.0001)\n",
    "plot_reg_model(mlp, Xn, y);\n",
    "plt.savefig('15.8.png')"
   ]
  },
  {
   "cell_type": "code",
   "execution_count": 56,
   "metadata": {},
   "outputs": [
    {
     "name": "stdout",
     "output_type": "stream",
     "text": [
      "MLP Mean R2: -77.00279422415073\n",
      "MLP Standard Deviation R2: 216.51213390123678\n"
     ]
    }
   ],
   "source": [
    "mlp = cross_val_score(mlp, X, y, cv=10)\n",
    "print('MLP Mean R2: {}'.format(mlp.mean()))\n",
    "print('MLP Standard Deviation R2: {}'.format(mlp.std()))"
   ]
  },
  {
   "cell_type": "markdown",
   "metadata": {},
   "source": [
    "* adding an addtional layer to improve performance"
   ]
  },
  {
   "cell_type": "code",
   "execution_count": 62,
   "metadata": {},
   "outputs": [
    {
     "name": "stdout",
     "output_type": "stream",
     "text": [
      "Training R2: 0.7524181447021974\n",
      "Testing R2: 0.7569480223346262\n"
     ]
    }
   ],
   "source": [
    "mlp2 = MLPRegressor(hidden_layer_sizes = (100, 100), solver = 'lbfgs', activation = 'relu', alpha=0.0001)\n",
    "plot_reg_model(mlp2, Xn, y);\n",
    "plt.savefig('15.9.png')"
   ]
  },
  {
   "cell_type": "code",
   "execution_count": 65,
   "metadata": {},
   "outputs": [
    {
     "name": "stdout",
     "output_type": "stream",
     "text": [
      "MLP Mean R2: -0.12631779034076399\n",
      "MLP Standard Deviation R2: 0.2317989720036636\n"
     ]
    }
   ],
   "source": [
    "mlp2 = MLPRegressor(hidden_layer_sizes = (100, 100), solver = 'lbfgs', activation = 'relu', alpha=0.0001)\n",
    "mlp = cross_val_score(mlp2, Xn, y, cv=4)\n",
    "print('MLP Mean R2: {}'.format(mlp.mean()))\n",
    "print('MLP Standard Deviation R2: {}'.format(mlp.std()))"
   ]
  },
  {
   "cell_type": "markdown",
   "metadata": {},
   "source": [
    "#### We tried to use the new method of running the cross validation on each our models but we are getting means and standard deviations that do not make sense and are completely off from our testing and training sets. Knowing that, we will try using different methods of cross validation from the scikitlearn website to see if those will work. If those different methods do not work we will go back to computing it by hand. "
   ]
  },
  {
   "cell_type": "markdown",
   "metadata": {},
   "source": [
    "## What's next\n",
    "    * Input the decision tree (Jordana)\n",
    "    * Find different method of cross validation that will produce accurate values (Lee)\n",
    "    * Implement newest models (Lee and Luke)\n",
    "    * Run already working models against different features (Linear,Ridge, Lasso - SAM) \n",
    "        (Remainding models will be split among Lee,Jordana, and Luke)"
   ]
  },
  {
   "cell_type": "code",
   "execution_count": null,
   "metadata": {
    "collapsed": true
   },
   "outputs": [],
   "source": []
  }
 ],
 "metadata": {
  "kernelspec": {
   "display_name": "Python 3",
   "language": "python",
   "name": "python3"
  },
  "language_info": {
   "codemirror_mode": {
    "name": "ipython",
    "version": 3
   },
   "file_extension": ".py",
   "mimetype": "text/x-python",
   "name": "python",
   "nbconvert_exporter": "python",
   "pygments_lexer": "ipython3",
   "version": "3.6.1"
  }
 },
 "nbformat": 4,
 "nbformat_minor": 4
}
