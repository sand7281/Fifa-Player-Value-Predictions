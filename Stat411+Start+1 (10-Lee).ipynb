{
 "cells": [
  {
   "cell_type": "code",
   "execution_count": 2,
   "metadata": {},
   "outputs": [
    {
     "data": {
      "text/plain": [
       "['append',\n",
       " 'clear',\n",
       " 'copy',\n",
       " 'count',\n",
       " 'extend',\n",
       " 'index',\n",
       " 'insert',\n",
       " 'pop',\n",
       " 'remove',\n",
       " 'reverse',\n",
       " 'sort']"
      ]
     },
     "execution_count": 2,
     "metadata": {},
     "output_type": "execute_result"
    }
   ],
   "source": [
    "import numpy as np                   # Numerical computation library\n",
    "import pandas as pa                  # Dataframe and Data manipulation Library\n",
    "import matplotlib.pyplot as plt      # Basic plotting functionality Library\n",
    "import seaborn as sn                 # Advanced Data visualization Library\n",
    "import numpy.random as rn\n",
    "from sklearn.decomposition import PCA\n",
    "from sklearn.linear_model import LinearRegression\n",
    "from sklearn.neighbors import KNeighborsRegressor # Import the Regressor\n",
    "[x for x in dir(list) if not '__' in x]\n"
   ]
  },
  {
   "cell_type": "markdown",
   "metadata": {},
   "source": [
    "   For the remainder of the semester our group will be working with a FIFA 18 COMPLETE PLAYER DATASET, that can be found on kaggle.com. The size of this dataset is approximately 17981 x 75, which includes features that range from the players name to their individual agility in the game. The dataset provides the positions played by the individual as well as their current salary from their respective club. It is also important to note that the players age and club is represented in the data. There are a few features within this dataset that we do not specifically need in order to answer our question such as their photo and team flag, which we have programmed to remove. With the time that we have worked with this dataset we realized that majority of the features are strings and need to be converted into an integer because there are some values represented as objects and we cannot use them. Along with missing data and attributes that include symbols that we will remove. Removing these feature will not specifically remove the player as a whole but just that specific attribute.This data is important to help develop the game and advance the sport of soccer. It would also be important to anyone who is responsible for paying the players because they would want to make sure they don’t overpay or miss out on a once in a lifetime player. These attributes give value to each specific player. There is a lot of importance when it comes to the success of the club as well because without good players the team won’t win. We think that this data could also be important to determine the longevity of a players career and determine if the player is really deserving of a large contract or that the club should pass on the player and select a younger player for their roster.\n",
    "Working with this data set we are able to ask a few questions such as:\n",
    " What attributes have the most significance when it comes to a players salary?\n",
    "Can we predict the players salary based on their position?\n",
    "Relating specific attributes to an individual players salary. \n",
    "Given the players rating of … can their salary be determined?\n",
    "Do certain positions pay more compared to others?\t\n",
    "Do certain teams pay more compared to others?\n",
    "Can we predict a players’ position based on their ability rankings?\n",
    "We think that initially we are going to look at our data set and try to analyze our problem as a regression type. We have discussed the ability to switch to a categorical question later on because we have a lot of data points and attributes that we could use. \n"
   ]
  },
  {
   "cell_type": "code",
   "execution_count": 3,
   "metadata": {},
   "outputs": [],
   "source": [
    "fifa = pa.read_csv('https://www.dropbox.com/s/ov362sryogd0942/CompleteDataset.csv?dl=1', low_memory=False)\n"
   ]
  },
  {
   "cell_type": "markdown",
   "metadata": {},
   "source": [
    "### Determining the type of data "
   ]
  },
  {
   "cell_type": "code",
   "execution_count": 4,
   "metadata": {},
   "outputs": [
    {
     "data": {
      "text/plain": [
       "Name                  object\n",
       "Age                    int64\n",
       "Nationality           object\n",
       "Overall                int64\n",
       "Potential              int64\n",
       "Club                  object\n",
       "Value                 object\n",
       "Wage                  object\n",
       "Acceleration          object\n",
       "Aggression            object\n",
       "Agility               object\n",
       "Balance               object\n",
       "Ball control          object\n",
       "Composure             object\n",
       "Crossing              object\n",
       "Curve                 object\n",
       "Dribbling             object\n",
       "Finishing             object\n",
       "Free kick accuracy    object\n",
       "GK diving             object\n",
       "GK handling           object\n",
       "GK kicking            object\n",
       "GK positioning        object\n",
       "GK reflexes           object\n",
       "Heading accuracy      object\n",
       "Interceptions         object\n",
       "Jumping               object\n",
       "Long passing          object\n",
       "Long shots            object\n",
       "Marking               object\n",
       "Penalties             object\n",
       "Positioning           object\n",
       "Reactions             object\n",
       "Short passing         object\n",
       "Shot power            object\n",
       "Sliding tackle        object\n",
       "Sprint speed          object\n",
       "Stamina               object\n",
       "Standing tackle       object\n",
       "Strength              object\n",
       "Vision                object\n",
       "Volleys               object\n",
       "Position              object\n",
       "dtype: object"
      ]
     },
     "execution_count": 4,
     "metadata": {},
     "output_type": "execute_result"
    }
   ],
   "source": [
    "fifa.dtypes"
   ]
  },
  {
   "cell_type": "code",
   "execution_count": 5,
   "metadata": {
    "scrolled": true
   },
   "outputs": [
    {
     "data": {
      "text/html": [
       "<div>\n",
       "<style scoped>\n",
       "    .dataframe tbody tr th:only-of-type {\n",
       "        vertical-align: middle;\n",
       "    }\n",
       "\n",
       "    .dataframe tbody tr th {\n",
       "        vertical-align: top;\n",
       "    }\n",
       "\n",
       "    .dataframe thead th {\n",
       "        text-align: right;\n",
       "    }\n",
       "</style>\n",
       "<table border=\"1\" class=\"dataframe\">\n",
       "  <thead>\n",
       "    <tr style=\"text-align: right;\">\n",
       "      <th></th>\n",
       "      <th>Name</th>\n",
       "      <th>Age</th>\n",
       "      <th>Nationality</th>\n",
       "      <th>Overall</th>\n",
       "      <th>Potential</th>\n",
       "      <th>Club</th>\n",
       "      <th>Value</th>\n",
       "      <th>Wage</th>\n",
       "      <th>Acceleration</th>\n",
       "      <th>Aggression</th>\n",
       "      <th>...</th>\n",
       "      <th>Short passing</th>\n",
       "      <th>Shot power</th>\n",
       "      <th>Sliding tackle</th>\n",
       "      <th>Sprint speed</th>\n",
       "      <th>Stamina</th>\n",
       "      <th>Standing tackle</th>\n",
       "      <th>Strength</th>\n",
       "      <th>Vision</th>\n",
       "      <th>Volleys</th>\n",
       "      <th>Position</th>\n",
       "    </tr>\n",
       "  </thead>\n",
       "  <tbody>\n",
       "    <tr>\n",
       "      <td>0</td>\n",
       "      <td>Cristiano Ronaldo</td>\n",
       "      <td>32</td>\n",
       "      <td>Portugal</td>\n",
       "      <td>94</td>\n",
       "      <td>94</td>\n",
       "      <td>Real Madrid CF</td>\n",
       "      <td>€95.5M</td>\n",
       "      <td>€565K</td>\n",
       "      <td>89</td>\n",
       "      <td>63</td>\n",
       "      <td>...</td>\n",
       "      <td>83</td>\n",
       "      <td>94</td>\n",
       "      <td>23</td>\n",
       "      <td>91</td>\n",
       "      <td>92</td>\n",
       "      <td>31</td>\n",
       "      <td>80</td>\n",
       "      <td>85</td>\n",
       "      <td>88</td>\n",
       "      <td>ST LW</td>\n",
       "    </tr>\n",
       "    <tr>\n",
       "      <td>1</td>\n",
       "      <td>L. Messi</td>\n",
       "      <td>30</td>\n",
       "      <td>Argentina</td>\n",
       "      <td>93</td>\n",
       "      <td>93</td>\n",
       "      <td>FC Barcelona</td>\n",
       "      <td>€105M</td>\n",
       "      <td>€565K</td>\n",
       "      <td>92</td>\n",
       "      <td>48</td>\n",
       "      <td>...</td>\n",
       "      <td>88</td>\n",
       "      <td>85</td>\n",
       "      <td>26</td>\n",
       "      <td>87</td>\n",
       "      <td>73</td>\n",
       "      <td>28</td>\n",
       "      <td>59</td>\n",
       "      <td>90</td>\n",
       "      <td>85</td>\n",
       "      <td>RW</td>\n",
       "    </tr>\n",
       "    <tr>\n",
       "      <td>2</td>\n",
       "      <td>Neymar</td>\n",
       "      <td>25</td>\n",
       "      <td>Brazil</td>\n",
       "      <td>92</td>\n",
       "      <td>94</td>\n",
       "      <td>Paris Saint-Germain</td>\n",
       "      <td>€123M</td>\n",
       "      <td>€280K</td>\n",
       "      <td>94</td>\n",
       "      <td>56</td>\n",
       "      <td>...</td>\n",
       "      <td>81</td>\n",
       "      <td>80</td>\n",
       "      <td>33</td>\n",
       "      <td>90</td>\n",
       "      <td>78</td>\n",
       "      <td>24</td>\n",
       "      <td>53</td>\n",
       "      <td>80</td>\n",
       "      <td>83</td>\n",
       "      <td>LW</td>\n",
       "    </tr>\n",
       "    <tr>\n",
       "      <td>3</td>\n",
       "      <td>L. Suárez</td>\n",
       "      <td>30</td>\n",
       "      <td>Uruguay</td>\n",
       "      <td>92</td>\n",
       "      <td>92</td>\n",
       "      <td>FC Barcelona</td>\n",
       "      <td>€97M</td>\n",
       "      <td>€510K</td>\n",
       "      <td>88</td>\n",
       "      <td>78</td>\n",
       "      <td>...</td>\n",
       "      <td>83</td>\n",
       "      <td>87</td>\n",
       "      <td>38</td>\n",
       "      <td>77</td>\n",
       "      <td>89</td>\n",
       "      <td>45</td>\n",
       "      <td>80</td>\n",
       "      <td>84</td>\n",
       "      <td>88</td>\n",
       "      <td>ST</td>\n",
       "    </tr>\n",
       "    <tr>\n",
       "      <td>4</td>\n",
       "      <td>M. Neuer</td>\n",
       "      <td>31</td>\n",
       "      <td>Germany</td>\n",
       "      <td>92</td>\n",
       "      <td>92</td>\n",
       "      <td>FC Bayern Munich</td>\n",
       "      <td>€61M</td>\n",
       "      <td>€230K</td>\n",
       "      <td>58</td>\n",
       "      <td>29</td>\n",
       "      <td>...</td>\n",
       "      <td>55</td>\n",
       "      <td>25</td>\n",
       "      <td>11</td>\n",
       "      <td>61</td>\n",
       "      <td>44</td>\n",
       "      <td>10</td>\n",
       "      <td>83</td>\n",
       "      <td>70</td>\n",
       "      <td>11</td>\n",
       "      <td>GK</td>\n",
       "    </tr>\n",
       "    <tr>\n",
       "      <td>5</td>\n",
       "      <td>R. Lewandowski</td>\n",
       "      <td>28</td>\n",
       "      <td>Poland</td>\n",
       "      <td>91</td>\n",
       "      <td>91</td>\n",
       "      <td>FC Bayern Munich</td>\n",
       "      <td>€92M</td>\n",
       "      <td>€355K</td>\n",
       "      <td>79</td>\n",
       "      <td>80</td>\n",
       "      <td>...</td>\n",
       "      <td>83</td>\n",
       "      <td>88</td>\n",
       "      <td>19</td>\n",
       "      <td>83</td>\n",
       "      <td>79</td>\n",
       "      <td>42</td>\n",
       "      <td>84</td>\n",
       "      <td>78</td>\n",
       "      <td>87</td>\n",
       "      <td>ST</td>\n",
       "    </tr>\n",
       "    <tr>\n",
       "      <td>6</td>\n",
       "      <td>De Gea</td>\n",
       "      <td>26</td>\n",
       "      <td>Spain</td>\n",
       "      <td>90</td>\n",
       "      <td>92</td>\n",
       "      <td>Manchester United</td>\n",
       "      <td>€64.5M</td>\n",
       "      <td>€215K</td>\n",
       "      <td>57</td>\n",
       "      <td>38</td>\n",
       "      <td>...</td>\n",
       "      <td>50</td>\n",
       "      <td>31</td>\n",
       "      <td>13</td>\n",
       "      <td>58</td>\n",
       "      <td>40</td>\n",
       "      <td>21</td>\n",
       "      <td>64</td>\n",
       "      <td>68</td>\n",
       "      <td>13</td>\n",
       "      <td>GK</td>\n",
       "    </tr>\n",
       "    <tr>\n",
       "      <td>7</td>\n",
       "      <td>E. Hazard</td>\n",
       "      <td>26</td>\n",
       "      <td>Belgium</td>\n",
       "      <td>90</td>\n",
       "      <td>91</td>\n",
       "      <td>Chelsea</td>\n",
       "      <td>€90.5M</td>\n",
       "      <td>€295K</td>\n",
       "      <td>93</td>\n",
       "      <td>54</td>\n",
       "      <td>...</td>\n",
       "      <td>86</td>\n",
       "      <td>79</td>\n",
       "      <td>22</td>\n",
       "      <td>87</td>\n",
       "      <td>79</td>\n",
       "      <td>27</td>\n",
       "      <td>65</td>\n",
       "      <td>86</td>\n",
       "      <td>79</td>\n",
       "      <td>LW</td>\n",
       "    </tr>\n",
       "    <tr>\n",
       "      <td>8</td>\n",
       "      <td>T. Kroos</td>\n",
       "      <td>27</td>\n",
       "      <td>Germany</td>\n",
       "      <td>90</td>\n",
       "      <td>90</td>\n",
       "      <td>Real Madrid CF</td>\n",
       "      <td>€79M</td>\n",
       "      <td>€340K</td>\n",
       "      <td>60</td>\n",
       "      <td>60</td>\n",
       "      <td>...</td>\n",
       "      <td>90</td>\n",
       "      <td>87</td>\n",
       "      <td>69</td>\n",
       "      <td>52</td>\n",
       "      <td>77</td>\n",
       "      <td>82</td>\n",
       "      <td>74</td>\n",
       "      <td>88</td>\n",
       "      <td>82</td>\n",
       "      <td>CDM CM</td>\n",
       "    </tr>\n",
       "    <tr>\n",
       "      <td>9</td>\n",
       "      <td>G. Higuaín</td>\n",
       "      <td>29</td>\n",
       "      <td>Argentina</td>\n",
       "      <td>90</td>\n",
       "      <td>90</td>\n",
       "      <td>Juventus</td>\n",
       "      <td>€77M</td>\n",
       "      <td>€275K</td>\n",
       "      <td>78</td>\n",
       "      <td>50</td>\n",
       "      <td>...</td>\n",
       "      <td>75</td>\n",
       "      <td>88</td>\n",
       "      <td>18</td>\n",
       "      <td>80</td>\n",
       "      <td>72</td>\n",
       "      <td>22</td>\n",
       "      <td>85</td>\n",
       "      <td>70</td>\n",
       "      <td>88</td>\n",
       "      <td>ST</td>\n",
       "    </tr>\n",
       "  </tbody>\n",
       "</table>\n",
       "<p>10 rows × 43 columns</p>\n",
       "</div>"
      ],
      "text/plain": [
       "                Name  Age Nationality  Overall  Potential  \\\n",
       "0  Cristiano Ronaldo   32    Portugal       94         94   \n",
       "1           L. Messi   30   Argentina       93         93   \n",
       "2             Neymar   25      Brazil       92         94   \n",
       "3          L. Suárez   30     Uruguay       92         92   \n",
       "4           M. Neuer   31     Germany       92         92   \n",
       "5     R. Lewandowski   28      Poland       91         91   \n",
       "6             De Gea   26       Spain       90         92   \n",
       "7          E. Hazard   26     Belgium       90         91   \n",
       "8           T. Kroos   27     Germany       90         90   \n",
       "9         G. Higuaín   29   Argentina       90         90   \n",
       "\n",
       "                  Club   Value   Wage Acceleration Aggression  ...  \\\n",
       "0       Real Madrid CF  €95.5M  €565K           89         63  ...   \n",
       "1         FC Barcelona   €105M  €565K           92         48  ...   \n",
       "2  Paris Saint-Germain   €123M  €280K           94         56  ...   \n",
       "3         FC Barcelona    €97M  €510K           88         78  ...   \n",
       "4     FC Bayern Munich    €61M  €230K           58         29  ...   \n",
       "5     FC Bayern Munich    €92M  €355K           79         80  ...   \n",
       "6    Manchester United  €64.5M  €215K           57         38  ...   \n",
       "7              Chelsea  €90.5M  €295K           93         54  ...   \n",
       "8       Real Madrid CF    €79M  €340K           60         60  ...   \n",
       "9             Juventus    €77M  €275K           78         50  ...   \n",
       "\n",
       "  Short passing Shot power Sliding tackle Sprint speed Stamina  \\\n",
       "0            83         94             23           91      92   \n",
       "1            88         85             26           87      73   \n",
       "2            81         80             33           90      78   \n",
       "3            83         87             38           77      89   \n",
       "4            55         25             11           61      44   \n",
       "5            83         88             19           83      79   \n",
       "6            50         31             13           58      40   \n",
       "7            86         79             22           87      79   \n",
       "8            90         87             69           52      77   \n",
       "9            75         88             18           80      72   \n",
       "\n",
       "  Standing tackle Strength Vision Volleys Position  \n",
       "0              31       80     85      88   ST LW   \n",
       "1              28       59     90      85      RW   \n",
       "2              24       53     80      83      LW   \n",
       "3              45       80     84      88      ST   \n",
       "4              10       83     70      11      GK   \n",
       "5              42       84     78      87      ST   \n",
       "6              21       64     68      13      GK   \n",
       "7              27       65     86      79      LW   \n",
       "8              82       74     88      82  CDM CM   \n",
       "9              22       85     70      88      ST   \n",
       "\n",
       "[10 rows x 43 columns]"
      ]
     },
     "execution_count": 5,
     "metadata": {},
     "output_type": "execute_result"
    }
   ],
   "source": [
    "fifa.head(10)\n"
   ]
  },
  {
   "cell_type": "code",
   "execution_count": 6,
   "metadata": {},
   "outputs": [],
   "source": [
    "#This should drop all rows containing + from the column aggression\n",
    "fifa = fifa[~fifa['Aggression'].isin(['+'])]\n",
    "fifa = fifa[~fifa['Aggression'].isin(['-'])]"
   ]
  },
  {
   "cell_type": "code",
   "execution_count": 7,
   "metadata": {},
   "outputs": [],
   "source": [
    "#fifa['Aggression'] = fifa.Aggression.astype(float)\n",
    "#fifa['Aggression'] = fifa.Aggression.astype(float)"
   ]
  },
  {
   "cell_type": "code",
   "execution_count": 8,
   "metadata": {},
   "outputs": [
    {
     "data": {
      "text/plain": [
       "<seaborn.axisgrid.PairGrid at 0x26905eea4c8>"
      ]
     },
     "execution_count": 8,
     "metadata": {},
     "output_type": "execute_result"
    },
    {
     "data": {
      "image/png": "[encoded data removed]",
      "text/plain": [
       "<Figure size 540x540 with 12 Axes>"
      ]
     },
     "metadata": {
      "needs_background": "light"
     },
     "output_type": "display_data"
    }
   ],
   "source": [
    "sn.pairplot(fifa)"
   ]
  },
  {
   "cell_type": "markdown",
   "metadata": {},
   "source": [
    "Since majority of the features are classified as objects they we not plotted. So far there are only three feature that are integer."
   ]
  },
  {
   "cell_type": "code",
   "execution_count": 9,
   "metadata": {},
   "outputs": [
    {
     "data": {
      "text/plain": [
       "Age\n",
       "16    76.538462\n",
       "17    73.492248\n",
       "18    72.654762\n",
       "19    72.815716\n",
       "20    72.717269\n",
       "21    72.790047\n",
       "22    72.542296\n",
       "23    72.489957\n",
       "24    72.090705\n",
       "25    70.836399\n",
       "26    70.574875\n",
       "27    69.697917\n",
       "28    69.304472\n",
       "29    69.763604\n",
       "30    69.853234\n",
       "31    69.767511\n",
       "32    69.468379\n",
       "33    69.709887\n",
       "34    68.911765\n",
       "35    69.151832\n",
       "36    69.080882\n",
       "37    68.536232\n",
       "38    68.666667\n",
       "39    67.900000\n",
       "40    67.625000\n",
       "41    64.333333\n",
       "43    55.000000\n",
       "44    70.500000\n",
       "47    46.000000\n",
       "Name: Potential, dtype: float64"
      ]
     },
     "execution_count": 9,
     "metadata": {},
     "output_type": "execute_result"
    }
   ],
   "source": [
    "fifa.groupby('Age').Potential.mean()"
   ]
  },
  {
   "cell_type": "code",
   "execution_count": 10,
   "metadata": {},
   "outputs": [],
   "source": [
    "A = fifa.groupby('Club')['Overall'].count()\n",
    "B = fifa.groupby('Club')['Potential'].count()\n"
   ]
  },
  {
   "cell_type": "code",
   "execution_count": 11,
   "metadata": {},
   "outputs": [
    {
     "data": {
      "image/png": "[encoded data removed]",
      "text/plain": [
       "<Figure size 432x288 with 1 Axes>"
      ]
     },
     "metadata": {
      "needs_background": "light"
     },
     "output_type": "display_data"
    }
   ],
   "source": [
    "plt.plot(A,B)\n",
    "plt.show()\n"
   ]
  },
  {
   "cell_type": "markdown",
   "metadata": {},
   "source": [
    "### Working with the Overall vs Potential"
   ]
  },
  {
   "cell_type": "code",
   "execution_count": 12,
   "metadata": {},
   "outputs": [],
   "source": [
    "X = fifa[\"Potential\"] = fifa.Potential.astype(float)\n",
    "Y = fifa[\"Overall\"] = fifa.Overall.astype(float)\n"
   ]
  },
  {
   "cell_type": "code",
   "execution_count": 13,
   "metadata": {},
   "outputs": [
    {
     "data": {
      "image/png": "[encoded data removed]",
      "text/plain": [
       "<Figure size 432x288 with 1 Axes>"
      ]
     },
     "metadata": {
      "needs_background": "light"
     },
     "output_type": "display_data"
    }
   ],
   "source": [
    "plt.plot(X, Y,'.')\n",
    "plt.ylabel('Overall')\n",
    "plt.xlabel('Potential')\n",
    "plt.show()"
   ]
  },
  {
   "cell_type": "markdown",
   "metadata": {},
   "source": [
    "Grouping the overall rating and portential by club."
   ]
  },
  {
   "cell_type": "markdown",
   "metadata": {},
   "source": [
    "## Linear Regression"
   ]
  },
  {
   "cell_type": "code",
   "execution_count": 14,
   "metadata": {},
   "outputs": [],
   "source": [
    "X = np.atleast_2d(np.array([float(h) for h in fifa.loc[:, 'Potential']])).transpose()\n",
    "Y = np.array(fifa.loc[:, 'Overall'])"
   ]
  },
  {
   "cell_type": "code",
   "execution_count": 15,
   "metadata": {},
   "outputs": [],
   "source": [
    "n = X.shape[0]\n",
    "test = int(0.20*n)            \n",
    "perm = rn.permutation(n)   \n",
    "X = X[perm]\n",
    "Y = Y[perm]\n",
    "X_test = X[:test]       \n",
    "Y_test = Y[:test]\n",
    "X_train = X[test:]     \n",
    "Y_train = Y[test:]"
   ]
  },
  {
   "cell_type": "code",
   "execution_count": 16,
   "metadata": {},
   "outputs": [
    {
     "data": {
      "text/plain": [
       "(10.66313464400558, 0.7808986890532734)"
      ]
     },
     "execution_count": 16,
     "metadata": {},
     "output_type": "execute_result"
    }
   ],
   "source": [
    "reg = LinearRegression().fit(X_train, Y_train)\n",
    "b, m = reg.intercept_, *reg.coef_\n",
    "b, m"
   ]
  },
  {
   "cell_type": "code",
   "execution_count": 17,
   "metadata": {},
   "outputs": [
    {
     "data": {
      "text/plain": [
       "0.46713673557450175"
      ]
     },
     "execution_count": 17,
     "metadata": {},
     "output_type": "execute_result"
    }
   ],
   "source": [
    "reg = LinearRegression().fit(X, Y)   \n",
    "reg.score(X, Y)"
   ]
  },
  {
   "cell_type": "code",
   "execution_count": 18,
   "metadata": {},
   "outputs": [
    {
     "data": {
      "image/png": "[encoded data removed]",
      "text/plain": [
       "<Figure size 432x288 with 1 Axes>"
      ]
     },
     "metadata": {
      "needs_background": "light"
     },
     "output_type": "display_data"
    }
   ],
   "source": [
    "plt.plot(X_train, Y_train, 'b.')\n",
    "plt.plot(X_test, Y_test, 'g.')\n",
    "xx = np.linspace(40, 100, 50)\n",
    "yy = b + m*xx\n",
    "plt.plot(xx, yy, 'r-');\n",
    "plt.show()"
   ]
  },
  {
   "cell_type": "code",
   "execution_count": 19,
   "metadata": {},
   "outputs": [
    {
     "name": "stdout",
     "output_type": "stream",
     "text": [
      "The training: 0.46865155792609553\n",
      "The testing: 0.46096412770432016\n"
     ]
    }
   ],
   "source": [
    "print('The training: {}'.format(reg.score(X_train, Y_train)))\n",
    "print('The testing: {}'.format(reg.score(X_test, Y_test)))"
   ]
  },
  {
   "cell_type": "markdown",
   "metadata": {},
   "source": [
    "The training and testing are not accurate. "
   ]
  },
  {
   "cell_type": "markdown",
   "metadata": {},
   "source": [
    "## Applying Bootstraping method"
   ]
  },
  {
   "cell_type": "code",
   "execution_count": 20,
   "metadata": {},
   "outputs": [],
   "source": [
    "num = 50 # number of bootstraps to use\n",
    "Xboot = [0]*num\n",
    "Yboot = [0]*num\n",
    "\n",
    "n = X.shape[0]\n",
    "for k in range(num):\n",
    "    sample = np.random.randint(0, n, n)  \n",
    "    Xboot[k] = X[sample, :]\n",
    "    Yboot[k] = Y[sample]"
   ]
  },
  {
   "cell_type": "code",
   "execution_count": 21,
   "metadata": {},
   "outputs": [
    {
     "data": {
      "text/html": [
       "<div>\n",
       "<style scoped>\n",
       "    .dataframe tbody tr th:only-of-type {\n",
       "        vertical-align: middle;\n",
       "    }\n",
       "\n",
       "    .dataframe tbody tr th {\n",
       "        vertical-align: top;\n",
       "    }\n",
       "\n",
       "    .dataframe thead th {\n",
       "        text-align: right;\n",
       "    }\n",
       "</style>\n",
       "<table border=\"1\" class=\"dataframe\">\n",
       "  <thead>\n",
       "    <tr style=\"text-align: right;\">\n",
       "      <th></th>\n",
       "      <th>train_1</th>\n",
       "      <th>test_1</th>\n",
       "      <th>train_2</th>\n",
       "      <th>test_2</th>\n",
       "    </tr>\n",
       "  </thead>\n",
       "  <tbody>\n",
       "    <tr>\n",
       "      <td>42</td>\n",
       "      <td>0.473828</td>\n",
       "      <td>0.461399</td>\n",
       "      <td>0.473828</td>\n",
       "      <td>0.461399</td>\n",
       "    </tr>\n",
       "    <tr>\n",
       "      <td>43</td>\n",
       "      <td>0.464449</td>\n",
       "      <td>0.475218</td>\n",
       "      <td>0.464449</td>\n",
       "      <td>0.475218</td>\n",
       "    </tr>\n",
       "    <tr>\n",
       "      <td>44</td>\n",
       "      <td>0.476907</td>\n",
       "      <td>0.456930</td>\n",
       "      <td>0.476907</td>\n",
       "      <td>0.456930</td>\n",
       "    </tr>\n",
       "    <tr>\n",
       "      <td>45</td>\n",
       "      <td>0.466975</td>\n",
       "      <td>0.463623</td>\n",
       "      <td>0.466975</td>\n",
       "      <td>0.463623</td>\n",
       "    </tr>\n",
       "    <tr>\n",
       "      <td>46</td>\n",
       "      <td>0.466570</td>\n",
       "      <td>0.483181</td>\n",
       "      <td>0.466570</td>\n",
       "      <td>0.483181</td>\n",
       "    </tr>\n",
       "    <tr>\n",
       "      <td>47</td>\n",
       "      <td>0.466801</td>\n",
       "      <td>0.457697</td>\n",
       "      <td>0.466801</td>\n",
       "      <td>0.457697</td>\n",
       "    </tr>\n",
       "    <tr>\n",
       "      <td>48</td>\n",
       "      <td>0.470705</td>\n",
       "      <td>0.483217</td>\n",
       "      <td>0.470705</td>\n",
       "      <td>0.483217</td>\n",
       "    </tr>\n",
       "    <tr>\n",
       "      <td>49</td>\n",
       "      <td>0.466985</td>\n",
       "      <td>0.468638</td>\n",
       "      <td>0.466985</td>\n",
       "      <td>0.468638</td>\n",
       "    </tr>\n",
       "    <tr>\n",
       "      <td>Mean</td>\n",
       "      <td>0.467025</td>\n",
       "      <td>0.466620</td>\n",
       "      <td>0.467025</td>\n",
       "      <td>0.466620</td>\n",
       "    </tr>\n",
       "    <tr>\n",
       "      <td>Standard Deviation</td>\n",
       "      <td>0.009184</td>\n",
       "      <td>0.013683</td>\n",
       "      <td>0.009184</td>\n",
       "      <td>0.013683</td>\n",
       "    </tr>\n",
       "  </tbody>\n",
       "</table>\n",
       "</div>"
      ],
      "text/plain": [
       "                     train_1    test_1   train_2    test_2\n",
       "42                  0.473828  0.461399  0.473828  0.461399\n",
       "43                  0.464449  0.475218  0.464449  0.475218\n",
       "44                  0.476907  0.456930  0.476907  0.456930\n",
       "45                  0.466975  0.463623  0.466975  0.463623\n",
       "46                  0.466570  0.483181  0.466570  0.483181\n",
       "47                  0.466801  0.457697  0.466801  0.457697\n",
       "48                  0.470705  0.483217  0.470705  0.483217\n",
       "49                  0.466985  0.468638  0.466985  0.468638\n",
       "Mean                0.467025  0.466620  0.467025  0.466620\n",
       "Standard Deviation  0.009184  0.013683  0.009184  0.013683"
      ]
     },
     "execution_count": 21,
     "metadata": {},
     "output_type": "execute_result"
    }
   ],
   "source": [
    "test = int(0.20*n)\n",
    "R2 = pa.DataFrame( np.array([ [0]*num]*4).transpose(), columns = ['train_1', 'test_1', 'train_2', 'test_2'])\n",
    "\n",
    "for k in range(num):\n",
    "    X_test = Xboot[k][:test]\n",
    "    Y_test = Yboot[k][:test]\n",
    "    X_train = Xboot[k][test:]\n",
    "    Y_train = Yboot[k][test:]\n",
    "    reg = LinearRegression().fit(X_train, Y_train)\n",
    "    reg2 = LinearRegression().fit(X_train[:, 0:6], Y_train)\n",
    "    \n",
    "    R2.loc[k, 'train_1'] = reg.score(X_train, Y_train)\n",
    "    R2.loc[k, 'test_1'] = reg.score(X_test, Y_test)\n",
    "    R2.loc[k, 'train_2'] = reg2.score(X_train[:, 0:6], Y_train)\n",
    "    R2.loc[k, 'test_2'] = reg2.score(X_test[:, 0:6], Y_test)\n",
    "    \n",
    "R2mean = [0]*4\n",
    "R2std = [0]*4\n",
    "for c in range(4):\n",
    "    R2mean[c] = np.mean(R2.iloc[0:5, c])\n",
    "    R2std[c] = np.std(R2.iloc[0:5, c])\n",
    "    \n",
    "R2 = R2.append( pa.Series(R2mean, index=R2.columns), ignore_index=True )\n",
    "R2 = R2.append( pa.Series(R2std, index=R2.columns), ignore_index=True)\n",
    "R2.index = list(range(num)) + ['Mean', 'Standard Deviation']\n",
    "R2.tail(10)"
   ]
  },
  {
   "cell_type": "code",
   "execution_count": 22,
   "metadata": {},
   "outputs": [
    {
     "data": {
      "image/png": "[encoded data removed]",
      "text/plain": [
       "<Figure size 720x576 with 1 Axes>"
      ]
     },
     "metadata": {
      "needs_background": "light"
     },
     "output_type": "display_data"
    }
   ],
   "source": [
    "plt.figure(figsize = (10, 8))\n",
    "sn.distplot(R2.iloc[:num, 1], color='green')\n",
    "sn.distplot(R2.iloc[:num, 2], color='blue');\n",
    "plt.show()"
   ]
  },
  {
   "cell_type": "markdown",
   "metadata": {},
   "source": [
    "### PCA Method\n",
    "* STILL FIGURING OUT\n",
    "* Overall and Potential = predictors\n",
    "* Age = result\n"
   ]
  },
  {
   "cell_type": "code",
   "execution_count": 23,
   "metadata": {},
   "outputs": [
    {
     "data": {
      "text/html": [
       "<div>\n",
       "<style scoped>\n",
       "    .dataframe tbody tr th:only-of-type {\n",
       "        vertical-align: middle;\n",
       "    }\n",
       "\n",
       "    .dataframe tbody tr th {\n",
       "        vertical-align: top;\n",
       "    }\n",
       "\n",
       "    .dataframe thead th {\n",
       "        text-align: right;\n",
       "    }\n",
       "</style>\n",
       "<table border=\"1\" class=\"dataframe\">\n",
       "  <thead>\n",
       "    <tr style=\"text-align: right;\">\n",
       "      <th></th>\n",
       "      <th>Name</th>\n",
       "      <th>Age</th>\n",
       "      <th>Nationality</th>\n",
       "      <th>Overall</th>\n",
       "      <th>Potential</th>\n",
       "      <th>Club</th>\n",
       "      <th>Value</th>\n",
       "      <th>Wage</th>\n",
       "      <th>Acceleration</th>\n",
       "      <th>Aggression</th>\n",
       "      <th>...</th>\n",
       "      <th>Short passing</th>\n",
       "      <th>Shot power</th>\n",
       "      <th>Sliding tackle</th>\n",
       "      <th>Sprint speed</th>\n",
       "      <th>Stamina</th>\n",
       "      <th>Standing tackle</th>\n",
       "      <th>Strength</th>\n",
       "      <th>Vision</th>\n",
       "      <th>Volleys</th>\n",
       "      <th>Position</th>\n",
       "    </tr>\n",
       "  </thead>\n",
       "  <tbody>\n",
       "    <tr>\n",
       "      <td>0</td>\n",
       "      <td>Cristiano Ronaldo</td>\n",
       "      <td>32</td>\n",
       "      <td>Portugal</td>\n",
       "      <td>94.0</td>\n",
       "      <td>94.0</td>\n",
       "      <td>Real Madrid CF</td>\n",
       "      <td>€95.5M</td>\n",
       "      <td>€565K</td>\n",
       "      <td>89</td>\n",
       "      <td>63</td>\n",
       "      <td>...</td>\n",
       "      <td>83</td>\n",
       "      <td>94</td>\n",
       "      <td>23</td>\n",
       "      <td>91</td>\n",
       "      <td>92</td>\n",
       "      <td>31</td>\n",
       "      <td>80</td>\n",
       "      <td>85</td>\n",
       "      <td>88</td>\n",
       "      <td>ST LW</td>\n",
       "    </tr>\n",
       "    <tr>\n",
       "      <td>1</td>\n",
       "      <td>L. Messi</td>\n",
       "      <td>30</td>\n",
       "      <td>Argentina</td>\n",
       "      <td>93.0</td>\n",
       "      <td>93.0</td>\n",
       "      <td>FC Barcelona</td>\n",
       "      <td>€105M</td>\n",
       "      <td>€565K</td>\n",
       "      <td>92</td>\n",
       "      <td>48</td>\n",
       "      <td>...</td>\n",
       "      <td>88</td>\n",
       "      <td>85</td>\n",
       "      <td>26</td>\n",
       "      <td>87</td>\n",
       "      <td>73</td>\n",
       "      <td>28</td>\n",
       "      <td>59</td>\n",
       "      <td>90</td>\n",
       "      <td>85</td>\n",
       "      <td>RW</td>\n",
       "    </tr>\n",
       "    <tr>\n",
       "      <td>2</td>\n",
       "      <td>Neymar</td>\n",
       "      <td>25</td>\n",
       "      <td>Brazil</td>\n",
       "      <td>92.0</td>\n",
       "      <td>94.0</td>\n",
       "      <td>Paris Saint-Germain</td>\n",
       "      <td>€123M</td>\n",
       "      <td>€280K</td>\n",
       "      <td>94</td>\n",
       "      <td>56</td>\n",
       "      <td>...</td>\n",
       "      <td>81</td>\n",
       "      <td>80</td>\n",
       "      <td>33</td>\n",
       "      <td>90</td>\n",
       "      <td>78</td>\n",
       "      <td>24</td>\n",
       "      <td>53</td>\n",
       "      <td>80</td>\n",
       "      <td>83</td>\n",
       "      <td>LW</td>\n",
       "    </tr>\n",
       "    <tr>\n",
       "      <td>3</td>\n",
       "      <td>L. Suárez</td>\n",
       "      <td>30</td>\n",
       "      <td>Uruguay</td>\n",
       "      <td>92.0</td>\n",
       "      <td>92.0</td>\n",
       "      <td>FC Barcelona</td>\n",
       "      <td>€97M</td>\n",
       "      <td>€510K</td>\n",
       "      <td>88</td>\n",
       "      <td>78</td>\n",
       "      <td>...</td>\n",
       "      <td>83</td>\n",
       "      <td>87</td>\n",
       "      <td>38</td>\n",
       "      <td>77</td>\n",
       "      <td>89</td>\n",
       "      <td>45</td>\n",
       "      <td>80</td>\n",
       "      <td>84</td>\n",
       "      <td>88</td>\n",
       "      <td>ST</td>\n",
       "    </tr>\n",
       "    <tr>\n",
       "      <td>4</td>\n",
       "      <td>M. Neuer</td>\n",
       "      <td>31</td>\n",
       "      <td>Germany</td>\n",
       "      <td>92.0</td>\n",
       "      <td>92.0</td>\n",
       "      <td>FC Bayern Munich</td>\n",
       "      <td>€61M</td>\n",
       "      <td>€230K</td>\n",
       "      <td>58</td>\n",
       "      <td>29</td>\n",
       "      <td>...</td>\n",
       "      <td>55</td>\n",
       "      <td>25</td>\n",
       "      <td>11</td>\n",
       "      <td>61</td>\n",
       "      <td>44</td>\n",
       "      <td>10</td>\n",
       "      <td>83</td>\n",
       "      <td>70</td>\n",
       "      <td>11</td>\n",
       "      <td>GK</td>\n",
       "    </tr>\n",
       "  </tbody>\n",
       "</table>\n",
       "<p>5 rows × 43 columns</p>\n",
       "</div>"
      ],
      "text/plain": [
       "                Name  Age Nationality  Overall  Potential  \\\n",
       "0  Cristiano Ronaldo   32    Portugal     94.0       94.0   \n",
       "1           L. Messi   30   Argentina     93.0       93.0   \n",
       "2             Neymar   25      Brazil     92.0       94.0   \n",
       "3          L. Suárez   30     Uruguay     92.0       92.0   \n",
       "4           M. Neuer   31     Germany     92.0       92.0   \n",
       "\n",
       "                  Club   Value   Wage Acceleration Aggression  ...  \\\n",
       "0       Real Madrid CF  €95.5M  €565K           89         63  ...   \n",
       "1         FC Barcelona   €105M  €565K           92         48  ...   \n",
       "2  Paris Saint-Germain   €123M  €280K           94         56  ...   \n",
       "3         FC Barcelona    €97M  €510K           88         78  ...   \n",
       "4     FC Bayern Munich    €61M  €230K           58         29  ...   \n",
       "\n",
       "  Short passing Shot power Sliding tackle Sprint speed Stamina  \\\n",
       "0            83         94             23           91      92   \n",
       "1            88         85             26           87      73   \n",
       "2            81         80             33           90      78   \n",
       "3            83         87             38           77      89   \n",
       "4            55         25             11           61      44   \n",
       "\n",
       "  Standing tackle Strength Vision Volleys Position  \n",
       "0              31       80     85      88   ST LW   \n",
       "1              28       59     90      85      RW   \n",
       "2              24       53     80      83      LW   \n",
       "3              45       80     84      88      ST   \n",
       "4              10       83     70      11      GK   \n",
       "\n",
       "[5 rows x 43 columns]"
      ]
     },
     "execution_count": 23,
     "metadata": {},
     "output_type": "execute_result"
    }
   ],
   "source": [
    "fifa.head()"
   ]
  },
  {
   "cell_type": "markdown",
   "metadata": {},
   "source": [
    "* Change aggression rating to 1's and 0's. If rate is > 50 change to 1, if < 50 change to 0."
   ]
  },
  {
   "cell_type": "code",
   "execution_count": 24,
   "metadata": {},
   "outputs": [
    {
     "name": "stdout",
     "output_type": "stream",
     "text": [
      "[[94. 94.]\n",
      " [93. 93.]\n",
      " [92. 94.]\n",
      " ...\n",
      " [46. 61.]\n",
      " [46. 64.]\n",
      " [46. 64.]]\n",
      "[32 30 25 ... 17 18 18]\n"
     ]
    }
   ],
   "source": [
    "X = np.array(fifa.iloc[:, 3:5])\n",
    "Y = np.array(fifa.iloc[:, 1])\n",
    "print(X)\n",
    "print(Y)"
   ]
  },
  {
   "cell_type": "code",
   "execution_count": 25,
   "metadata": {},
   "outputs": [
    {
     "data": {
      "image/png": "[encoded data removed]",
      "text/plain": [
       "<Figure size 432x288 with 1 Axes>"
      ]
     },
     "metadata": {
      "needs_background": "light"
     },
     "output_type": "display_data"
    },
    {
     "data": {
      "image/png": "[encoded data removed]",
      "text/plain": [
       "<Figure size 432x288 with 1 Axes>"
      ]
     },
     "metadata": {
      "needs_background": "light"
     },
     "output_type": "display_data"
    }
   ],
   "source": [
    "plt.plot(X[:, 0], Y, '.')\n",
    "plt.xlabel('Potential')\n",
    "plt.ylabel('Age')\n",
    "plt.show()\n",
    "plt.plot(X[:, 1], Y, '.')\n",
    "plt.xlabel('Overall')\n",
    "plt.ylabel('Age')\n",
    "plt.show()"
   ]
  },
  {
   "cell_type": "code",
   "execution_count": 26,
   "metadata": {},
   "outputs": [
    {
     "name": "stdout",
     "output_type": "stream",
     "text": [
      "       component 1  component 2\n",
      "0        35.922594     0.026152\n",
      "1        34.515190    -0.112469\n",
      "2        34.376569     1.294934\n",
      "3        33.107787    -0.251090\n",
      "4        33.107787    -0.251090\n",
      "...            ...          ...\n",
      "17976   -20.848119     6.513541\n",
      "17977   -31.632766    -6.627668\n",
      "17978   -22.116901     4.967516\n",
      "17979   -20.213728     7.286553\n",
      "17980   -20.213728     7.286553\n",
      "\n",
      "[17981 rows x 2 columns]\n"
     ]
    }
   ],
   "source": [
    "pca = PCA(n_components = 2)\n",
    "Xpca = pca.fit_transform(X);\n",
    "Df = pa.DataFrame(data = Xpca\n",
    "             , columns = ['component 1', 'component 2'])\n",
    "print(Df)"
   ]
  },
  {
   "cell_type": "code",
   "execution_count": 27,
   "metadata": {},
   "outputs": [
    {
     "data": {
      "image/png": "[encoded data removed]",
      "text/plain": [
       "<Figure size 432x288 with 1 Axes>"
      ]
     },
     "metadata": {
      "needs_background": "light"
     },
     "output_type": "display_data"
    }
   ],
   "source": [
    "plt.plot(Xpca[Y==0, 0], Xpca[Y==0, 1], 'r.')\n",
    "plt.plot(Xpca[Y==1, 0], Xpca[Y==1, 1], 'g.')\n",
    "plt.plot(Xpca[Y==2, 0], Xpca[Y==2, 1], 'b.');"
   ]
  },
  {
   "cell_type": "code",
   "execution_count": 28,
   "metadata": {},
   "outputs": [
    {
     "name": "stdout",
     "output_type": "stream",
     "text": [
      "[0.8452562 0.1547438]\n"
     ]
    }
   ],
   "source": [
    "print(pca.explained_variance_ratio_)"
   ]
  },
  {
   "cell_type": "markdown",
   "metadata": {},
   "source": [
    "### Still need to do: \n",
    "* Compare features\n",
    "* PCA Method\n",
    "* k-Nearest Neighbors Application\n",
    "* BOOTSTRAP AND CROSS VALIDATE\n",
    "* etc.\n"
   ]
  }
 ],
 "metadata": {
  "kernelspec": {
   "display_name": "Python 3",
   "language": "python",
   "name": "python3"
  },
  "language_info": {
   "codemirror_mode": {
    "name": "ipython",
    "version": 3
   },
   "file_extension": ".py",
   "mimetype": "text/x-python",
   "name": "python",
   "nbconvert_exporter": "python",
   "pygments_lexer": "ipython3",
   "version": "3.7.4"
  }
 },
 "nbformat": 4,
 "nbformat_minor": 2
}
