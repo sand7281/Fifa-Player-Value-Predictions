{
 "cells": [
  {
   "cell_type": "markdown",
   "metadata": {},
   "source": [
    "### Predicting Fifa Players Salary\n",
    "### STAT 411 FALL 19\n",
    "### Luke, Lee, Jordana, Sam\n"
   ]
  },
  {
   "cell_type": "markdown",
   "metadata": {},
   "source": [
    "1. \n",
    "    * Our dataset is taken from the FIFA video game from 2018 and tells us every player (17,981 payers) that played in the FIFA 2018 league and over 70 attributes.. This data includes their positioning information as well as their skills based on their performance in the game. The overall feature gives us their overall performance score based on all the individual attributes while potential tells us what their score should be. The dataset also includes wage and value which tells us their yearly salary and their net worth. We had to fix the symbols for the prices since the original dataset was in euros and included “M” for millions and “K” for thousands. The players’ club and age is also represented within this dataset.\n",
    "\n",
    "2. \n",
    "    * We are asking which attributes have the most significance when it comes to a players salary and relating specific attributes to an individual players salary. \n",
    "    * This nonlinear regression problem is important for the national club team managers and coaches to understand if their players are worth the amount that they are spending on each player based on their overall performance and attributes. They may need to know this if they have a salary cap for their team or individual players. \n",
    "\n",
    "3. No ethical considerations\n"
   ]
  },
  {
   "cell_type": "code",
   "execution_count": 50,
   "metadata": {},
   "outputs": [],
   "source": [
    "import numpy as np                   \n",
    "import pandas as pa                 \n",
    "import matplotlib.pyplot as plt      \n",
    "import seaborn as sn                \n",
    "import numpy.random as rn\n",
    "from sklearn.decomposition import PCA\n",
    "from sklearn.linear_model import LinearRegression\n",
    "from sklearn.neighbors import KNeighborsRegressor\n",
    "from sklearn.linear_model import Ridge\n",
    "from sklearn.linear_model import Lasso\n",
    "from sklearn.tree import DecisionTreeRegressor\n",
    "from sklearn.ensemble import RandomForestRegressor\n",
    "from sklearn.ensemble import GradientBoostingRegressor\n",
    "from sklearn.neural_network import MLPRegressor\n",
    "from sklearn.linear_model import LogisticRegression\n",
    "import matplotlib.colors as pltco \n",
    "from sklearn.model_selection import cross_val_score\n",
    "from sklearn.model_selection import ShuffleSplit"
   ]
  },
  {
   "cell_type": "markdown",
   "metadata": {},
   "source": [
    "### Import Data Frame assign the name fifa\n",
    "* Print out the head() or first 5 rows\n",
    "* Importing data from drop box online"
   ]
  },
  {
   "cell_type": "code",
   "execution_count": 51,
   "metadata": {},
   "outputs": [
    {
     "data": {
      "text/html": [
       "<div>\n",
       "<style scoped>\n",
       "    .dataframe tbody tr th:only-of-type {\n",
       "        vertical-align: middle;\n",
       "    }\n",
       "\n",
       "    .dataframe tbody tr th {\n",
       "        vertical-align: top;\n",
       "    }\n",
       "\n",
       "    .dataframe thead th {\n",
       "        text-align: right;\n",
       "    }\n",
       "</style>\n",
       "<table border=\"1\" class=\"dataframe\">\n",
       "  <thead>\n",
       "    <tr style=\"text-align: right;\">\n",
       "      <th></th>\n",
       "      <th>Name</th>\n",
       "      <th>Age</th>\n",
       "      <th>Nationality</th>\n",
       "      <th>Overall</th>\n",
       "      <th>Potential</th>\n",
       "      <th>Club</th>\n",
       "      <th>Value</th>\n",
       "      <th>Wage</th>\n",
       "      <th>Acceleration</th>\n",
       "      <th>Aggression</th>\n",
       "      <th>...</th>\n",
       "      <th>Short passing</th>\n",
       "      <th>Shot power</th>\n",
       "      <th>Sliding tackle</th>\n",
       "      <th>Sprint speed</th>\n",
       "      <th>Stamina</th>\n",
       "      <th>Standing tackle</th>\n",
       "      <th>Strength</th>\n",
       "      <th>Vision</th>\n",
       "      <th>Volleys</th>\n",
       "      <th>Position</th>\n",
       "    </tr>\n",
       "  </thead>\n",
       "  <tbody>\n",
       "    <tr>\n",
       "      <td>0</td>\n",
       "      <td>Cristiano Ronaldo</td>\n",
       "      <td>32</td>\n",
       "      <td>Portugal</td>\n",
       "      <td>94</td>\n",
       "      <td>94</td>\n",
       "      <td>Real Madrid CF</td>\n",
       "      <td>€95.5M</td>\n",
       "      <td>€565K</td>\n",
       "      <td>89</td>\n",
       "      <td>63</td>\n",
       "      <td>...</td>\n",
       "      <td>83</td>\n",
       "      <td>94</td>\n",
       "      <td>23</td>\n",
       "      <td>91</td>\n",
       "      <td>92</td>\n",
       "      <td>31</td>\n",
       "      <td>80</td>\n",
       "      <td>85</td>\n",
       "      <td>88</td>\n",
       "      <td>ST LW</td>\n",
       "    </tr>\n",
       "    <tr>\n",
       "      <td>1</td>\n",
       "      <td>L. Messi</td>\n",
       "      <td>30</td>\n",
       "      <td>Argentina</td>\n",
       "      <td>93</td>\n",
       "      <td>93</td>\n",
       "      <td>FC Barcelona</td>\n",
       "      <td>€105M</td>\n",
       "      <td>€565K</td>\n",
       "      <td>92</td>\n",
       "      <td>48</td>\n",
       "      <td>...</td>\n",
       "      <td>88</td>\n",
       "      <td>85</td>\n",
       "      <td>26</td>\n",
       "      <td>87</td>\n",
       "      <td>73</td>\n",
       "      <td>28</td>\n",
       "      <td>59</td>\n",
       "      <td>90</td>\n",
       "      <td>85</td>\n",
       "      <td>RW</td>\n",
       "    </tr>\n",
       "    <tr>\n",
       "      <td>2</td>\n",
       "      <td>Neymar</td>\n",
       "      <td>25</td>\n",
       "      <td>Brazil</td>\n",
       "      <td>92</td>\n",
       "      <td>94</td>\n",
       "      <td>Paris Saint-Germain</td>\n",
       "      <td>€123M</td>\n",
       "      <td>€280K</td>\n",
       "      <td>94</td>\n",
       "      <td>56</td>\n",
       "      <td>...</td>\n",
       "      <td>81</td>\n",
       "      <td>80</td>\n",
       "      <td>33</td>\n",
       "      <td>90</td>\n",
       "      <td>78</td>\n",
       "      <td>24</td>\n",
       "      <td>53</td>\n",
       "      <td>80</td>\n",
       "      <td>83</td>\n",
       "      <td>LW</td>\n",
       "    </tr>\n",
       "    <tr>\n",
       "      <td>3</td>\n",
       "      <td>L. Suárez</td>\n",
       "      <td>30</td>\n",
       "      <td>Uruguay</td>\n",
       "      <td>92</td>\n",
       "      <td>92</td>\n",
       "      <td>FC Barcelona</td>\n",
       "      <td>€97M</td>\n",
       "      <td>€510K</td>\n",
       "      <td>88</td>\n",
       "      <td>78</td>\n",
       "      <td>...</td>\n",
       "      <td>83</td>\n",
       "      <td>87</td>\n",
       "      <td>38</td>\n",
       "      <td>77</td>\n",
       "      <td>89</td>\n",
       "      <td>45</td>\n",
       "      <td>80</td>\n",
       "      <td>84</td>\n",
       "      <td>88</td>\n",
       "      <td>ST</td>\n",
       "    </tr>\n",
       "    <tr>\n",
       "      <td>4</td>\n",
       "      <td>M. Neuer</td>\n",
       "      <td>31</td>\n",
       "      <td>Germany</td>\n",
       "      <td>92</td>\n",
       "      <td>92</td>\n",
       "      <td>FC Bayern Munich</td>\n",
       "      <td>€61M</td>\n",
       "      <td>€230K</td>\n",
       "      <td>58</td>\n",
       "      <td>29</td>\n",
       "      <td>...</td>\n",
       "      <td>55</td>\n",
       "      <td>25</td>\n",
       "      <td>11</td>\n",
       "      <td>61</td>\n",
       "      <td>44</td>\n",
       "      <td>10</td>\n",
       "      <td>83</td>\n",
       "      <td>70</td>\n",
       "      <td>11</td>\n",
       "      <td>GK</td>\n",
       "    </tr>\n",
       "  </tbody>\n",
       "</table>\n",
       "<p>5 rows × 43 columns</p>\n",
       "</div>"
      ],
      "text/plain": [
       "                Name  Age Nationality  Overall  Potential  \\\n",
       "0  Cristiano Ronaldo   32    Portugal       94         94   \n",
       "1           L. Messi   30   Argentina       93         93   \n",
       "2             Neymar   25      Brazil       92         94   \n",
       "3          L. Suárez   30     Uruguay       92         92   \n",
       "4           M. Neuer   31     Germany       92         92   \n",
       "\n",
       "                  Club   Value   Wage Acceleration Aggression  ...  \\\n",
       "0       Real Madrid CF  €95.5M  €565K           89         63  ...   \n",
       "1         FC Barcelona   €105M  €565K           92         48  ...   \n",
       "2  Paris Saint-Germain   €123M  €280K           94         56  ...   \n",
       "3         FC Barcelona    €97M  €510K           88         78  ...   \n",
       "4     FC Bayern Munich    €61M  €230K           58         29  ...   \n",
       "\n",
       "  Short passing Shot power Sliding tackle Sprint speed Stamina  \\\n",
       "0            83         94             23           91      92   \n",
       "1            88         85             26           87      73   \n",
       "2            81         80             33           90      78   \n",
       "3            83         87             38           77      89   \n",
       "4            55         25             11           61      44   \n",
       "\n",
       "  Standing tackle Strength Vision Volleys Position  \n",
       "0              31       80     85      88   ST LW   \n",
       "1              28       59     90      85      RW   \n",
       "2              24       53     80      83      LW   \n",
       "3              45       80     84      88      ST   \n",
       "4              10       83     70      11      GK   \n",
       "\n",
       "[5 rows x 43 columns]"
      ]
     },
     "execution_count": 51,
     "metadata": {},
     "output_type": "execute_result"
    }
   ],
   "source": [
    "fifa = pa.read_csv('https://www.dropbox.com/s/ov362sryogd0942/CompleteDataset.csv?dl=1', low_memory=False)\n",
    "\n",
    "fifa.head()"
   ]
  },
  {
   "cell_type": "code",
   "execution_count": 52,
   "metadata": {},
   "outputs": [],
   "source": [
    "def shuffle_split(mlp2):\n",
    "    ss = ShuffleSplit(n_splits=5, test_size=0.1).split(X)\n",
    "    score_train = []\n",
    "    score_test = []\n",
    "    for train_index, test_index in ss:\n",
    "        mlp2.fit(X[train_index,:],y[train_index])\n",
    "        score_train+=[mlp2.score(X[train_index,:],y[train_index])]\n",
    "        score_test+=[mlp2.score(X[test_index,:],y[test_index])]\n",
    "    return score_test"
   ]
  },
  {
   "cell_type": "markdown",
   "metadata": {},
   "source": [
    "### Fixing Bad Data\n",
    "* Stripped \"€\" from the front of Wage and \"K\" from the end\n",
    "    * We did this so we could convert the wage into a float dtype\n",
    "* Our attributes values contained a \"+\" or \"-\"\n",
    "    * We removed them in front or behind our int values\n",
    "    * We removed them if they were in between two int values\n",
    "        * We stripped the values after the symbol so (79+2 = 79)\n",
    "    * We did this so we can convert the dtype from string to float "
   ]
  },
  {
   "cell_type": "code",
   "execution_count": 53,
   "metadata": {},
   "outputs": [],
   "source": [
    "fifa['Wage'] = fifa['Wage'].map(lambda x: x.lstrip('€').rstrip('K'))"
   ]
  },
  {
   "cell_type": "markdown",
   "metadata": {},
   "source": [
    "* removeStrings - searches each instance in our data frame and removes it and everything to its right\n",
    "    1. It looks at each instance in our data frame\n",
    "        1. searches for \"+\" then removes it if its finds it and returns the values to its left\n",
    "        2. searches for \"-\" then removes it if its finds it and returns the values to its left\n",
    "        3. returns the instance in the data frame with all the symbols removed"
   ]
  },
  {
   "cell_type": "code",
   "execution_count": 54,
   "metadata": {},
   "outputs": [],
   "source": [
    "def removeStrings (X):\n",
    "    if '+' in X:\n",
    "        K = X.find('+')\n",
    "        return X[:K]\n",
    "    if '-' in X:\n",
    "        K = X.find('-')\n",
    "        return X[:K]\n",
    "    else:  \n",
    "        return X"
   ]
  },
  {
   "cell_type": "markdown",
   "metadata": {},
   "source": [
    "* convertFloat - accepts the data frame with symbols removed and converts the dtype \n",
    "    1. It looks at one specific feature and then each instance in that feature\n",
    "    2. Because we already removed the symbol with removeString this converts the dtype to float"
   ]
  },
  {
   "cell_type": "code",
   "execution_count": 55,
   "metadata": {},
   "outputs": [],
   "source": [
    "def convertFloat(fifa, feature):\n",
    "    for K in fifa.index: \n",
    "        fifa.loc[K,feature] = removeStrings(fifa.loc[K, feature])\n",
    "\n",
    "    \n",
    "    fifa.loc[:, feature] = fifa.loc[:,feature].astype(\"float\")  \n",
    "    return fifa"
   ]
  },
  {
   "cell_type": "markdown",
   "metadata": {},
   "source": [
    "### Converting Columns to dtype float so we can use them \n",
    "    * Acceleration, Aggression, Agility, Balance, Ball Control, Sprint Speed, Composure, and Dribbling"
   ]
  },
  {
   "cell_type": "code",
   "execution_count": 56,
   "metadata": {},
   "outputs": [],
   "source": [
    "fifa = convertFloat(fifa, \"Acceleration\")\n",
    "fifa = convertFloat(fifa, \"Aggression\")\n",
    "fifa = convertFloat(fifa, \"Agility\")\n",
    "fifa = convertFloat(fifa, \"Balance\")\n",
    "fifa = convertFloat(fifa, \"Ball control\")\n",
    "fifa = convertFloat(fifa, 'Sprint speed')\n",
    "fifa = convertFloat(fifa, 'Composure')\n",
    "fifa = convertFloat(fifa, 'Dribbling')\n",
    "fifa = convertFloat(fifa, 'Sliding tackle') "
   ]
  },
  {
   "cell_type": "markdown",
   "metadata": {},
   "source": [
    "### Bad Models\n",
    "* Our data set is non linear and so any linear model is not a good predictor of wage and should typically be a bad fit\n",
    "* PCA models usually represent a classification problem and we have a regression problem"
   ]
  },
  {
   "cell_type": "code",
   "execution_count": 57,
   "metadata": {},
   "outputs": [],
   "source": [
    "def plot_reg_model(reg, X, y):\n",
    "\n",
    "    n = X.shape[0]\n",
    "    test = int(0.20*n)            \n",
    "    perm = rn.permutation(n)   \n",
    "    X = X[perm]\n",
    "    y = y[perm]\n",
    "    X_test = X[:test]       \n",
    "    y_test = y[:test]\n",
    "    X_train = X[test:]     \n",
    "    y_train = y[test:]\n",
    "    \n",
    "    reg.fit(X_train, y_train) \n",
    "     \n",
    "    nn = 200\n",
    "    \n",
    "    x_min, x_max = X[:, 0].min()-0.1, X[:, 0].max()+0.1\n",
    "    y_min, y_max = X[:, 1].min()-0.1, X[:, 1].max()+0.1\n",
    "    xx, yy = np.meshgrid(np.linspace(x_min, x_max, nn),   \n",
    "        np.linspace(y_min, y_max, nn))                    \n",
    "    Z = reg.predict(np.c_[xx.ravel(), yy.ravel()]) \n",
    "\n",
    "  \n",
    "    Z = Z.reshape(xx.shape)\n",
    "\n",
    "    plt.figure(figsize=(8, 6))\n",
    "    plt.contour(xx, yy, Z)\n",
    "    \n",
    "    plt.scatter(X_train[:,0], X_train[:,1], c=y_train, marker='o')\n",
    "    plt.scatter(X_test[:,0], X_test[:,1], c=y_test, marker='+');\n",
    "    \n",
    "    print('Training R2: {}'.format(reg.score(X_train, y_train)))\n",
    "    print('Testing R2: {}'.format(reg.score(X_test, y_test)))\n",
    "    \n",
    "    return reg"
   ]
  },
  {
   "cell_type": "markdown",
   "metadata": {},
   "source": [
    "### Linear Model for Agility and Overall VS Wage\n",
    "* We expect it to be a bad model because our data isnt linear\n",
    "* We see that we have much better chance at predicting our wage using non linear models"
   ]
  },
  {
   "cell_type": "code",
   "execution_count": 58,
   "metadata": {},
   "outputs": [],
   "source": [
    "X = np.array(fifa[['Agility', 'Overall']])\n",
    "y = np.array(fifa['Wage'])"
   ]
  },
  {
   "cell_type": "code",
   "execution_count": 59,
   "metadata": {},
   "outputs": [
    {
     "ename": "ValueError",
     "evalue": "RGBA values should be within 0-1 range",
     "output_type": "error",
     "traceback": [
      "\u001b[1;31m---------------------------------------------------------------------------\u001b[0m",
      "\u001b[1;31mValueError\u001b[0m                                Traceback (most recent call last)",
      "\u001b[1;32m<ipython-input-59-4dbfd1d45aee>\u001b[0m in \u001b[0;36m<module>\u001b[1;34m\u001b[0m\n\u001b[0;32m      1\u001b[0m \u001b[0mreg2\u001b[0m \u001b[1;33m=\u001b[0m \u001b[0mLinearRegression\u001b[0m\u001b[1;33m(\u001b[0m\u001b[1;33m)\u001b[0m\u001b[1;33m\u001b[0m\u001b[1;33m\u001b[0m\u001b[0m\n\u001b[1;32m----> 2\u001b[1;33m \u001b[0mplot_reg_model\u001b[0m\u001b[1;33m(\u001b[0m\u001b[0mreg2\u001b[0m\u001b[1;33m,\u001b[0m \u001b[0mX\u001b[0m\u001b[1;33m,\u001b[0m \u001b[0my\u001b[0m\u001b[1;33m)\u001b[0m\u001b[1;33m\u001b[0m\u001b[1;33m\u001b[0m\u001b[0m\n\u001b[0m\u001b[0;32m      3\u001b[0m \u001b[0mshuffle_split\u001b[0m\u001b[1;33m(\u001b[0m\u001b[0mreg2\u001b[0m\u001b[1;33m)\u001b[0m\u001b[1;33m\u001b[0m\u001b[1;33m\u001b[0m\u001b[0m\n\u001b[0;32m      4\u001b[0m \u001b[0mplt\u001b[0m\u001b[1;33m.\u001b[0m\u001b[0mshow\u001b[0m\u001b[1;33m(\u001b[0m\u001b[1;33m)\u001b[0m\u001b[1;33m\u001b[0m\u001b[1;33m\u001b[0m\u001b[0m\n",
      "\u001b[1;32m<ipython-input-57-eb91def222b3>\u001b[0m in \u001b[0;36mplot_reg_model\u001b[1;34m(reg, X, y)\u001b[0m\n\u001b[0;32m     27\u001b[0m     \u001b[0mplt\u001b[0m\u001b[1;33m.\u001b[0m\u001b[0mcontour\u001b[0m\u001b[1;33m(\u001b[0m\u001b[0mxx\u001b[0m\u001b[1;33m,\u001b[0m \u001b[0myy\u001b[0m\u001b[1;33m,\u001b[0m \u001b[0mZ\u001b[0m\u001b[1;33m)\u001b[0m\u001b[1;33m\u001b[0m\u001b[1;33m\u001b[0m\u001b[0m\n\u001b[0;32m     28\u001b[0m \u001b[1;33m\u001b[0m\u001b[0m\n\u001b[1;32m---> 29\u001b[1;33m     \u001b[0mplt\u001b[0m\u001b[1;33m.\u001b[0m\u001b[0mscatter\u001b[0m\u001b[1;33m(\u001b[0m\u001b[0mX_train\u001b[0m\u001b[1;33m[\u001b[0m\u001b[1;33m:\u001b[0m\u001b[1;33m,\u001b[0m\u001b[1;36m0\u001b[0m\u001b[1;33m]\u001b[0m\u001b[1;33m,\u001b[0m \u001b[0mX_train\u001b[0m\u001b[1;33m[\u001b[0m\u001b[1;33m:\u001b[0m\u001b[1;33m,\u001b[0m\u001b[1;36m1\u001b[0m\u001b[1;33m]\u001b[0m\u001b[1;33m,\u001b[0m \u001b[0mc\u001b[0m\u001b[1;33m=\u001b[0m\u001b[0my_train\u001b[0m\u001b[1;33m,\u001b[0m \u001b[0mmarker\u001b[0m\u001b[1;33m=\u001b[0m\u001b[1;34m'o'\u001b[0m\u001b[1;33m)\u001b[0m\u001b[1;33m\u001b[0m\u001b[1;33m\u001b[0m\u001b[0m\n\u001b[0m\u001b[0;32m     30\u001b[0m     \u001b[0mplt\u001b[0m\u001b[1;33m.\u001b[0m\u001b[0mscatter\u001b[0m\u001b[1;33m(\u001b[0m\u001b[0mX_test\u001b[0m\u001b[1;33m[\u001b[0m\u001b[1;33m:\u001b[0m\u001b[1;33m,\u001b[0m\u001b[1;36m0\u001b[0m\u001b[1;33m]\u001b[0m\u001b[1;33m,\u001b[0m \u001b[0mX_test\u001b[0m\u001b[1;33m[\u001b[0m\u001b[1;33m:\u001b[0m\u001b[1;33m,\u001b[0m\u001b[1;36m1\u001b[0m\u001b[1;33m]\u001b[0m\u001b[1;33m,\u001b[0m \u001b[0mc\u001b[0m\u001b[1;33m=\u001b[0m\u001b[0my_test\u001b[0m\u001b[1;33m,\u001b[0m \u001b[0mmarker\u001b[0m\u001b[1;33m=\u001b[0m\u001b[1;34m'+'\u001b[0m\u001b[1;33m)\u001b[0m\u001b[1;33m;\u001b[0m\u001b[1;33m\u001b[0m\u001b[1;33m\u001b[0m\u001b[0m\n\u001b[0;32m     31\u001b[0m \u001b[1;33m\u001b[0m\u001b[0m\n",
      "\u001b[1;32m~\\AppData\\Local\\Continuum\\anaconda3\\lib\\site-packages\\matplotlib\\pyplot.py\u001b[0m in \u001b[0;36mscatter\u001b[1;34m(x, y, s, c, marker, cmap, norm, vmin, vmax, alpha, linewidths, verts, edgecolors, plotnonfinite, data, **kwargs)\u001b[0m\n\u001b[0;32m   2845\u001b[0m         \u001b[0mverts\u001b[0m\u001b[1;33m=\u001b[0m\u001b[0mverts\u001b[0m\u001b[1;33m,\u001b[0m \u001b[0medgecolors\u001b[0m\u001b[1;33m=\u001b[0m\u001b[0medgecolors\u001b[0m\u001b[1;33m,\u001b[0m\u001b[1;33m\u001b[0m\u001b[1;33m\u001b[0m\u001b[0m\n\u001b[0;32m   2846\u001b[0m         plotnonfinite=plotnonfinite, **({\"data\": data} if data is not\n\u001b[1;32m-> 2847\u001b[1;33m         None else {}), **kwargs)\n\u001b[0m\u001b[0;32m   2848\u001b[0m     \u001b[0msci\u001b[0m\u001b[1;33m(\u001b[0m\u001b[0m__ret\u001b[0m\u001b[1;33m)\u001b[0m\u001b[1;33m\u001b[0m\u001b[1;33m\u001b[0m\u001b[0m\n\u001b[0;32m   2849\u001b[0m     \u001b[1;32mreturn\u001b[0m \u001b[0m__ret\u001b[0m\u001b[1;33m\u001b[0m\u001b[1;33m\u001b[0m\u001b[0m\n",
      "\u001b[1;32m~\\AppData\\Local\\Continuum\\anaconda3\\lib\\site-packages\\matplotlib\\__init__.py\u001b[0m in \u001b[0;36minner\u001b[1;34m(ax, data, *args, **kwargs)\u001b[0m\n\u001b[0;32m   1599\u001b[0m     \u001b[1;32mdef\u001b[0m \u001b[0minner\u001b[0m\u001b[1;33m(\u001b[0m\u001b[0max\u001b[0m\u001b[1;33m,\u001b[0m \u001b[1;33m*\u001b[0m\u001b[0margs\u001b[0m\u001b[1;33m,\u001b[0m \u001b[0mdata\u001b[0m\u001b[1;33m=\u001b[0m\u001b[1;32mNone\u001b[0m\u001b[1;33m,\u001b[0m \u001b[1;33m**\u001b[0m\u001b[0mkwargs\u001b[0m\u001b[1;33m)\u001b[0m\u001b[1;33m:\u001b[0m\u001b[1;33m\u001b[0m\u001b[1;33m\u001b[0m\u001b[0m\n\u001b[0;32m   1600\u001b[0m         \u001b[1;32mif\u001b[0m \u001b[0mdata\u001b[0m \u001b[1;32mis\u001b[0m \u001b[1;32mNone\u001b[0m\u001b[1;33m:\u001b[0m\u001b[1;33m\u001b[0m\u001b[1;33m\u001b[0m\u001b[0m\n\u001b[1;32m-> 1601\u001b[1;33m             \u001b[1;32mreturn\u001b[0m \u001b[0mfunc\u001b[0m\u001b[1;33m(\u001b[0m\u001b[0max\u001b[0m\u001b[1;33m,\u001b[0m \u001b[1;33m*\u001b[0m\u001b[0mmap\u001b[0m\u001b[1;33m(\u001b[0m\u001b[0msanitize_sequence\u001b[0m\u001b[1;33m,\u001b[0m \u001b[0margs\u001b[0m\u001b[1;33m)\u001b[0m\u001b[1;33m,\u001b[0m \u001b[1;33m**\u001b[0m\u001b[0mkwargs\u001b[0m\u001b[1;33m)\u001b[0m\u001b[1;33m\u001b[0m\u001b[1;33m\u001b[0m\u001b[0m\n\u001b[0m\u001b[0;32m   1602\u001b[0m \u001b[1;33m\u001b[0m\u001b[0m\n\u001b[0;32m   1603\u001b[0m         \u001b[0mbound\u001b[0m \u001b[1;33m=\u001b[0m \u001b[0mnew_sig\u001b[0m\u001b[1;33m.\u001b[0m\u001b[0mbind\u001b[0m\u001b[1;33m(\u001b[0m\u001b[0max\u001b[0m\u001b[1;33m,\u001b[0m \u001b[1;33m*\u001b[0m\u001b[0margs\u001b[0m\u001b[1;33m,\u001b[0m \u001b[1;33m**\u001b[0m\u001b[0mkwargs\u001b[0m\u001b[1;33m)\u001b[0m\u001b[1;33m\u001b[0m\u001b[1;33m\u001b[0m\u001b[0m\n",
      "\u001b[1;32m~\\AppData\\Local\\Continuum\\anaconda3\\lib\\site-packages\\matplotlib\\axes\\_axes.py\u001b[0m in \u001b[0;36mscatter\u001b[1;34m(self, x, y, s, c, marker, cmap, norm, vmin, vmax, alpha, linewidths, verts, edgecolors, plotnonfinite, **kwargs)\u001b[0m\n\u001b[0;32m   4496\u001b[0m                 \u001b[0moffsets\u001b[0m\u001b[1;33m=\u001b[0m\u001b[0moffsets\u001b[0m\u001b[1;33m,\u001b[0m\u001b[1;33m\u001b[0m\u001b[1;33m\u001b[0m\u001b[0m\n\u001b[0;32m   4497\u001b[0m                 \u001b[0mtransOffset\u001b[0m\u001b[1;33m=\u001b[0m\u001b[0mkwargs\u001b[0m\u001b[1;33m.\u001b[0m\u001b[0mpop\u001b[0m\u001b[1;33m(\u001b[0m\u001b[1;34m'transform'\u001b[0m\u001b[1;33m,\u001b[0m \u001b[0mself\u001b[0m\u001b[1;33m.\u001b[0m\u001b[0mtransData\u001b[0m\u001b[1;33m)\u001b[0m\u001b[1;33m,\u001b[0m\u001b[1;33m\u001b[0m\u001b[1;33m\u001b[0m\u001b[0m\n\u001b[1;32m-> 4498\u001b[1;33m                 \u001b[0malpha\u001b[0m\u001b[1;33m=\u001b[0m\u001b[0malpha\u001b[0m\u001b[1;33m\u001b[0m\u001b[1;33m\u001b[0m\u001b[0m\n\u001b[0m\u001b[0;32m   4499\u001b[0m                 )\n\u001b[0;32m   4500\u001b[0m         \u001b[0mcollection\u001b[0m\u001b[1;33m.\u001b[0m\u001b[0mset_transform\u001b[0m\u001b[1;33m(\u001b[0m\u001b[0mmtransforms\u001b[0m\u001b[1;33m.\u001b[0m\u001b[0mIdentityTransform\u001b[0m\u001b[1;33m(\u001b[0m\u001b[1;33m)\u001b[0m\u001b[1;33m)\u001b[0m\u001b[1;33m\u001b[0m\u001b[1;33m\u001b[0m\u001b[0m\n",
      "\u001b[1;32m~\\AppData\\Local\\Continuum\\anaconda3\\lib\\site-packages\\matplotlib\\collections.py\u001b[0m in \u001b[0;36m__init__\u001b[1;34m(self, paths, sizes, **kwargs)\u001b[0m\n\u001b[0;32m    881\u001b[0m         \"\"\"\n\u001b[0;32m    882\u001b[0m \u001b[1;33m\u001b[0m\u001b[0m\n\u001b[1;32m--> 883\u001b[1;33m         \u001b[0mCollection\u001b[0m\u001b[1;33m.\u001b[0m\u001b[0m__init__\u001b[0m\u001b[1;33m(\u001b[0m\u001b[0mself\u001b[0m\u001b[1;33m,\u001b[0m \u001b[1;33m**\u001b[0m\u001b[0mkwargs\u001b[0m\u001b[1;33m)\u001b[0m\u001b[1;33m\u001b[0m\u001b[1;33m\u001b[0m\u001b[0m\n\u001b[0m\u001b[0;32m    884\u001b[0m         \u001b[0mself\u001b[0m\u001b[1;33m.\u001b[0m\u001b[0mset_paths\u001b[0m\u001b[1;33m(\u001b[0m\u001b[0mpaths\u001b[0m\u001b[1;33m)\u001b[0m\u001b[1;33m\u001b[0m\u001b[1;33m\u001b[0m\u001b[0m\n\u001b[0;32m    885\u001b[0m         \u001b[0mself\u001b[0m\u001b[1;33m.\u001b[0m\u001b[0mset_sizes\u001b[0m\u001b[1;33m(\u001b[0m\u001b[0msizes\u001b[0m\u001b[1;33m)\u001b[0m\u001b[1;33m\u001b[0m\u001b[1;33m\u001b[0m\u001b[0m\n",
      "\u001b[1;32m~\\AppData\\Local\\Continuum\\anaconda3\\lib\\site-packages\\matplotlib\\collections.py\u001b[0m in \u001b[0;36m__init__\u001b[1;34m(self, edgecolors, facecolors, linewidths, linestyles, capstyle, joinstyle, antialiaseds, offsets, transOffset, norm, cmap, pickradius, hatch, urls, offset_position, zorder, **kwargs)\u001b[0m\n\u001b[0;32m    125\u001b[0m \u001b[1;33m\u001b[0m\u001b[0m\n\u001b[0;32m    126\u001b[0m         \u001b[0mself\u001b[0m\u001b[1;33m.\u001b[0m\u001b[0m_hatch_color\u001b[0m \u001b[1;33m=\u001b[0m \u001b[0mmcolors\u001b[0m\u001b[1;33m.\u001b[0m\u001b[0mto_rgba\u001b[0m\u001b[1;33m(\u001b[0m\u001b[0mmpl\u001b[0m\u001b[1;33m.\u001b[0m\u001b[0mrcParams\u001b[0m\u001b[1;33m[\u001b[0m\u001b[1;34m'hatch.color'\u001b[0m\u001b[1;33m]\u001b[0m\u001b[1;33m)\u001b[0m\u001b[1;33m\u001b[0m\u001b[1;33m\u001b[0m\u001b[0m\n\u001b[1;32m--> 127\u001b[1;33m         \u001b[0mself\u001b[0m\u001b[1;33m.\u001b[0m\u001b[0mset_facecolor\u001b[0m\u001b[1;33m(\u001b[0m\u001b[0mfacecolors\u001b[0m\u001b[1;33m)\u001b[0m\u001b[1;33m\u001b[0m\u001b[1;33m\u001b[0m\u001b[0m\n\u001b[0m\u001b[0;32m    128\u001b[0m         \u001b[0mself\u001b[0m\u001b[1;33m.\u001b[0m\u001b[0mset_edgecolor\u001b[0m\u001b[1;33m(\u001b[0m\u001b[0medgecolors\u001b[0m\u001b[1;33m)\u001b[0m\u001b[1;33m\u001b[0m\u001b[1;33m\u001b[0m\u001b[0m\n\u001b[0;32m    129\u001b[0m         \u001b[0mself\u001b[0m\u001b[1;33m.\u001b[0m\u001b[0mset_linewidth\u001b[0m\u001b[1;33m(\u001b[0m\u001b[0mlinewidths\u001b[0m\u001b[1;33m)\u001b[0m\u001b[1;33m\u001b[0m\u001b[1;33m\u001b[0m\u001b[0m\n",
      "\u001b[1;32m~\\AppData\\Local\\Continuum\\anaconda3\\lib\\site-packages\\matplotlib\\collections.py\u001b[0m in \u001b[0;36mset_facecolor\u001b[1;34m(self, c)\u001b[0m\n\u001b[0;32m    676\u001b[0m         \"\"\"\n\u001b[0;32m    677\u001b[0m         \u001b[0mself\u001b[0m\u001b[1;33m.\u001b[0m\u001b[0m_original_facecolor\u001b[0m \u001b[1;33m=\u001b[0m \u001b[0mc\u001b[0m\u001b[1;33m\u001b[0m\u001b[1;33m\u001b[0m\u001b[0m\n\u001b[1;32m--> 678\u001b[1;33m         \u001b[0mself\u001b[0m\u001b[1;33m.\u001b[0m\u001b[0m_set_facecolor\u001b[0m\u001b[1;33m(\u001b[0m\u001b[0mc\u001b[0m\u001b[1;33m)\u001b[0m\u001b[1;33m\u001b[0m\u001b[1;33m\u001b[0m\u001b[0m\n\u001b[0m\u001b[0;32m    679\u001b[0m \u001b[1;33m\u001b[0m\u001b[0m\n\u001b[0;32m    680\u001b[0m     \u001b[1;32mdef\u001b[0m \u001b[0mget_facecolor\u001b[0m\u001b[1;33m(\u001b[0m\u001b[0mself\u001b[0m\u001b[1;33m)\u001b[0m\u001b[1;33m:\u001b[0m\u001b[1;33m\u001b[0m\u001b[1;33m\u001b[0m\u001b[0m\n",
      "\u001b[1;32m~\\AppData\\Local\\Continuum\\anaconda3\\lib\\site-packages\\matplotlib\\collections.py\u001b[0m in \u001b[0;36m_set_facecolor\u001b[1;34m(self, c)\u001b[0m\n\u001b[0;32m    659\u001b[0m         \u001b[1;32mexcept\u001b[0m \u001b[0mAttributeError\u001b[0m\u001b[1;33m:\u001b[0m\u001b[1;33m\u001b[0m\u001b[1;33m\u001b[0m\u001b[0m\n\u001b[0;32m    660\u001b[0m             \u001b[1;32mpass\u001b[0m\u001b[1;33m\u001b[0m\u001b[1;33m\u001b[0m\u001b[0m\n\u001b[1;32m--> 661\u001b[1;33m         \u001b[0mself\u001b[0m\u001b[1;33m.\u001b[0m\u001b[0m_facecolors\u001b[0m \u001b[1;33m=\u001b[0m \u001b[0mmcolors\u001b[0m\u001b[1;33m.\u001b[0m\u001b[0mto_rgba_array\u001b[0m\u001b[1;33m(\u001b[0m\u001b[0mc\u001b[0m\u001b[1;33m,\u001b[0m \u001b[0mself\u001b[0m\u001b[1;33m.\u001b[0m\u001b[0m_alpha\u001b[0m\u001b[1;33m)\u001b[0m\u001b[1;33m\u001b[0m\u001b[1;33m\u001b[0m\u001b[0m\n\u001b[0m\u001b[0;32m    662\u001b[0m         \u001b[0mself\u001b[0m\u001b[1;33m.\u001b[0m\u001b[0mstale\u001b[0m \u001b[1;33m=\u001b[0m \u001b[1;32mTrue\u001b[0m\u001b[1;33m\u001b[0m\u001b[1;33m\u001b[0m\u001b[0m\n\u001b[0;32m    663\u001b[0m \u001b[1;33m\u001b[0m\u001b[0m\n",
      "\u001b[1;32m~\\AppData\\Local\\Continuum\\anaconda3\\lib\\site-packages\\matplotlib\\colors.py\u001b[0m in \u001b[0;36mto_rgba_array\u001b[1;34m(c, alpha)\u001b[0m\n\u001b[0;32m    277\u001b[0m             \u001b[0mresult\u001b[0m\u001b[1;33m[\u001b[0m\u001b[0mmask\u001b[0m\u001b[1;33m]\u001b[0m \u001b[1;33m=\u001b[0m \u001b[1;36m0\u001b[0m\u001b[1;33m\u001b[0m\u001b[1;33m\u001b[0m\u001b[0m\n\u001b[0;32m    278\u001b[0m         \u001b[1;32mif\u001b[0m \u001b[0mnp\u001b[0m\u001b[1;33m.\u001b[0m\u001b[0many\u001b[0m\u001b[1;33m(\u001b[0m\u001b[1;33m(\u001b[0m\u001b[0mresult\u001b[0m \u001b[1;33m<\u001b[0m \u001b[1;36m0\u001b[0m\u001b[1;33m)\u001b[0m \u001b[1;33m|\u001b[0m \u001b[1;33m(\u001b[0m\u001b[0mresult\u001b[0m \u001b[1;33m>\u001b[0m \u001b[1;36m1\u001b[0m\u001b[1;33m)\u001b[0m\u001b[1;33m)\u001b[0m\u001b[1;33m:\u001b[0m\u001b[1;33m\u001b[0m\u001b[1;33m\u001b[0m\u001b[0m\n\u001b[1;32m--> 279\u001b[1;33m             \u001b[1;32mraise\u001b[0m \u001b[0mValueError\u001b[0m\u001b[1;33m(\u001b[0m\u001b[1;34m\"RGBA values should be within 0-1 range\"\u001b[0m\u001b[1;33m)\u001b[0m\u001b[1;33m\u001b[0m\u001b[1;33m\u001b[0m\u001b[0m\n\u001b[0m\u001b[0;32m    280\u001b[0m         \u001b[1;32mreturn\u001b[0m \u001b[0mresult\u001b[0m\u001b[1;33m\u001b[0m\u001b[1;33m\u001b[0m\u001b[0m\n\u001b[0;32m    281\u001b[0m     \u001b[1;31m# Handle single values.\u001b[0m\u001b[1;33m\u001b[0m\u001b[1;33m\u001b[0m\u001b[1;33m\u001b[0m\u001b[0m\n",
      "\u001b[1;31mValueError\u001b[0m: RGBA values should be within 0-1 range"
     ]
    },
    {
     "data": {
      "image/png": "[encoded data removed]",
      "text/plain": [
       "<Figure size 576x432 with 1 Axes>"
      ]
     },
     "metadata": {
      "needs_background": "light"
     },
     "output_type": "display_data"
    }
   ],
   "source": [
    "reg2 = LinearRegression()\n",
    "plot_reg_model(reg2, X, y)\n",
    "shuffle_split(reg2)\n",
    "plt.show()"
   ]
  },
  {
   "cell_type": "markdown",
   "metadata": {},
   "source": [
    "### PCA Model \n",
    "* We expect this model to be a poor fit for us because it is a classification model and we are asking a regression problem\n",
    "* In this model we get a super small training and testing data which doesnt help us predict the wage at all\n",
    "* We might have some outliers that are skewing our data"
   ]
  },
  {
   "cell_type": "code",
   "execution_count": 60,
   "metadata": {},
   "outputs": [],
   "source": [
    "X = np.array(fifa.iloc[:,7:10])\n",
    "y = np.array(fifa.iloc[:, 1])\n",
    "\n",
    "pca = PCA(n_components=2)\n",
    "Xpca = pca.fit_transform(X);\n",
    "\n",
    "import numpy.random as rn\n",
    "n = X.shape[0]\n",
    "test = int(0.25*n)          \n",
    "perm = rn.permutation(n)   \n",
    "X = Xpca[perm]\n",
    "y = y[perm]\n",
    "X_test = Xpca[:test]     \n",
    "y_test = y[:test]\n",
    "X_train = Xpca[test:]   \n",
    "y_train = y[test:]"
   ]
  },
  {
   "cell_type": "code",
   "execution_count": 61,
   "metadata": {},
   "outputs": [
    {
     "data": {
      "text/plain": [
       "(0.08534776805576152, 0.08409343715239155)"
      ]
     },
     "execution_count": 61,
     "metadata": {},
     "output_type": "execute_result"
    }
   ],
   "source": [
    "cat1 = LogisticRegression(solver='liblinear', multi_class='ovr').fit(X_train[:, 0:2], y_train)\n",
    "cat1.score(X_train[:, 0:2], y_train), cat1.score(X_test[:, 0:2], y_test)"
   ]
  },
  {
   "cell_type": "code",
   "execution_count": 62,
   "metadata": {},
   "outputs": [],
   "source": [
    "def plot_reg_model(reg, X_train, y_train, X_test, y_test):\n",
    "\n",
    "    h = 0.01 \n",
    "    \n",
    "    x_min, x_max = -40.0, 40.0\n",
    "    y_min, y_max = -20.0, 20.0\n",
    "    xx, yy = np.meshgrid(np.arange(x_min, x_max, h),\n",
    "        np.arange(y_min, y_max, h))\n",
    "    Z = reg.predict(np.c_[xx.ravel(), yy.ravel()])\n",
    "\n",
    "    Z = Z.reshape(xx.shape)\n",
    "\n",
    "    plt.figure(figsize=(8, 6))\n",
    "    plt.contour(xx, yy, Z)\n",
    "    \n",
    "    plt.scatter(X_train[:, 0], X_train[:, 1], c=y_train, marker='o')\n",
    "    plt.scatter(X_test[:, 0], X_test[:, 1], c=y_test, marker='+');\n",
    "    \n",
    "    print('Training R2: {}'.format(reg.score(X_train, y_train)))\n",
    "    print('Testing R2: {}'.format(reg.score(X_test, y_test)))"
   ]
  },
  {
   "cell_type": "code",
   "execution_count": 63,
   "metadata": {},
   "outputs": [
    {
     "name": "stdout",
     "output_type": "stream",
     "text": [
      "Training R2: 0.0004066296300103689\n",
      "Testing R2: -0.01033049244104145\n"
     ]
    },
    {
     "data": {
      "text/plain": [
       "[0.025867460959934974,\n",
       " 0.05084928886536888,\n",
       " 0.03389782607698333,\n",
       " 0.03636163343863463,\n",
       " 0.03664678264882826]"
      ]
     },
     "execution_count": 63,
     "metadata": {},
     "output_type": "execute_result"
    },
    {
     "data": {
      "image/png": "[encoded data removed]",
      "text/plain": [
       "<Figure size 576x432 with 1 Axes>"
      ]
     },
     "metadata": {
      "needs_background": "light"
     },
     "output_type": "display_data"
    }
   ],
   "source": [
    "reg = LinearRegression()\n",
    "reg.fit(X_train,y_train)\n",
    "plot_reg_model(reg, X_train, y_train, X_test, y_test)\n",
    "shuffle_split(reg)"
   ]
  },
  {
   "cell_type": "markdown",
   "metadata": {},
   "source": [
    "### Ridge and Lasso \n",
    "* We picked Overall + some features VS Wage\n",
    "    1. We picked Agility \n",
    "    2. We picked Ball Control\n",
    "* The strategy in picking this model was to run some of our features through it to see if there is a pattern in certain features. This would help give us a baseline of features to run in the next models.\n",
    "* This was effective in helping us understand the correlation between our features and the wage. Though the numbers might not look to good, it did start to give us a good idea on certain features. "
   ]
  },
  {
   "cell_type": "markdown",
   "metadata": {},
   "source": [
    "### Agility + Overall"
   ]
  },
  {
   "cell_type": "code",
   "execution_count": null,
   "metadata": {},
   "outputs": [],
   "source": [
    "def plot_reg_model(reg, X, y):\n",
    "\n",
    "\n",
    "    n = X.shape[0]\n",
    "    test = int(0.30*n)           \n",
    "    perm = rn.permutation(n)   \n",
    "    X = X[perm]\n",
    "    y = y[perm]\n",
    "    X_test = X[:test]      \n",
    "    y_test = y[:test]\n",
    "    X_train = X[test:]     \n",
    "    y_train = y[test:]\n",
    "    \n",
    "    reg.fit(X_train, y_train) \n",
    "     \n",
    "    nn = 200\n",
    "    \n",
    "    x_min, x_max = X[:, 0].min()-0.1, X[:, 0].max()+0.1\n",
    "    y_min, y_max = X[:, 1].min()-0.1, X[:, 1].max()+0.1\n",
    "    xx, yy = np.meshgrid(np.linspace(x_min, x_max, nn),   \n",
    "        np.linspace(y_min, y_max, nn))                    \n",
    "    Z = reg.predict(np.c_[xx.ravel(), yy.ravel()]) \n",
    "\n",
    "    Z = Z.reshape(xx.shape)\n",
    "\n",
    "    plt.figure(figsize=(8, 6))\n",
    "    plt.contour(xx, yy, Z)\n",
    "    \n",
    "    plt.scatter(X_train[:, 0], X_train[:, 1], c=y_train, marker='o')\n",
    "    plt.scatter(X_test[:, 0], X_test[:, 1], c=y_test, marker='+');\n",
    "    \n",
    "    print('Training R2: {}'.format(reg.score(X_train, y_train)))\n",
    "    print('Testing R2: {}'.format(reg.score(X_test, y_test)))\n",
    "    \n",
    "    return reg"
   ]
  },
  {
   "cell_type": "code",
   "execution_count": null,
   "metadata": {},
   "outputs": [],
   "source": [
    "X = np.array(fifa[['Agility', 'Overall']])\n",
    "y = np.array(fifa['Wage'])"
   ]
  },
  {
   "cell_type": "code",
   "execution_count": null,
   "metadata": {},
   "outputs": [],
   "source": [
    "ridge2 = Ridge(alpha=1)  # alpha = 1 for both ridge and lasso made lasso a better fit\n",
    "plot_reg_model(ridge2, X, y);\n",
    "\n",
    "ridge = cross_val_score(ridge2, X, y, cv=10)\n",
    "print('Ridge Mean R2: {}'.format(ridge.mean()))\n",
    "print('Ridge Standard Deviation R2: {}'.format(ridge.std()))"
   ]
  },
  {
   "cell_type": "code",
   "execution_count": null,
   "metadata": {},
   "outputs": [],
   "source": [
    "lasso2=Lasso(alpha=1)\n",
    "plot_reg_model(lasso2, X, y);\n",
    "\n",
    "lasso = cross_val_score(l_reg, X, y, cv=10)\n",
    "print('Lasso Mean R2: {}'.format(lasso.mean()))\n",
    "print('Lasso Standard Deviation R2: {}'.format(lasso.std()))"
   ]
  },
  {
   "cell_type": "markdown",
   "metadata": {},
   "source": [
    "### Ball Control + Overall"
   ]
  },
  {
   "cell_type": "code",
   "execution_count": null,
   "metadata": {},
   "outputs": [],
   "source": [
    "X = np.array(fifa[['Ball control', 'Overall']])\n",
    "y = np.array(fifa['Wage'])"
   ]
  },
  {
   "cell_type": "code",
   "execution_count": null,
   "metadata": {},
   "outputs": [],
   "source": [
    "ridge_reg = Ridge(alpha=2)\n",
    "plot_reg_model(ridge_reg, X, y);\n",
    "\n",
    "ridge = cross_val_score(r_reg, X, y, cv=10)\n",
    "print('Ridge Mean R2: {}'.format(ridge.mean()))\n",
    "print('Ridge Standard Deviation R2: {}'.format(ridge.std()))"
   ]
  },
  {
   "cell_type": "code",
   "execution_count": null,
   "metadata": {},
   "outputs": [],
   "source": [
    "lasso_reg=Lasso(alpha=1)\n",
    "plot_reg_model(lasso_reg, X, y);\n",
    "\n",
    "lasso = cross_val_score(l_reg, X, y, cv=10)\n",
    "print('Lasso Mean R2: {}'.format(lasso.mean()))\n",
    "print('Lasso Standard Deviation R2: {}'.format(lasso.std()))"
   ]
  },
  {
   "cell_type": "markdown",
   "metadata": {},
   "source": [
    "### K- nearest neighbors\n",
    "* We picked Overall + some feature VS Wage\n",
    "    1. We picked Sprint Speed for over all fitness/attack\n",
    "    2. We picked Dribbling for ball control abilities/midfield\n",
    "    3. We picked Sliding Tackle for defense\n",
    "* Strategy for picking best models \n",
    "* This was an effective model for our data set because the model best fits regression problems and our training and testing data R2 are the closest for this model. We predicted that offensive skills would have more significance on the wage and because of this model it confirms our hypothesis.\n"
   ]
  },
  {
   "cell_type": "code",
   "execution_count": null,
   "metadata": {},
   "outputs": [],
   "source": [
    "def plot_reg_model(reg, X_train, y_train, X_test, y_test):\n",
    "\n",
    "    h = 0.01 # Mesh size  \n",
    "    # Plot the decision boundary. For that, we will assign a color to each\n",
    "    # point in the mesh [x_min, m_max]x[y_min, y_max].\n",
    "    x_min, x_max = -0.1, 1.1\n",
    "    y_min, y_max = -0.1, 1.1\n",
    "    xx, yy = np.meshgrid(np.arange(x_min, x_max, h),\n",
    "        np.arange(y_min, y_max, h))\n",
    "    Z = reg.predict(np.c_[xx.ravel(), yy.ravel()])\n",
    "\n",
    "    # Put the result into a color plot\n",
    "    Z = Z.reshape(xx.shape)\n",
    "\n",
    "    plt.figure(figsize=(5, 5))\n",
    "    plt.contour(xx, yy, Z)\n",
    "    \n",
    "    plt.scatter(X_train[:, 0], X_train[:, 1], c=y_train, marker='o')\n",
    "    plt.scatter(X_test[:, 0], X_test[:, 1], c=y_test, marker='+');\n",
    "    \n",
    "    print('Training R2: {}'.format(reg.score(X_train, y_train)))\n",
    "    print('Testing R2: {}'.format(reg.score(X_test, y_test)))"
   ]
  },
  {
   "cell_type": "code",
   "execution_count": null,
   "metadata": {},
   "outputs": [],
   "source": [
    "X = np.array(fifa[['Overall', 'Sprint speed']])\n",
    "y = np.array(fifa.iloc[:, 7])\n",
    "\n",
    "for l in range(X.shape[1]):\n",
    "    X[:, l] = ( X[:, l] - min(X[:, l]))/(max(X[:, l]) - min(X[:, l]))\n",
    "    \n",
    "n = X.shape[0]\n",
    "test = int(0.30*n)          \n",
    "perm = rn.permutation(n)   \n",
    "X = X[perm]\n",
    "y = y[perm]\n",
    "X_test = X[:test]      \n",
    "y_test = y[:test]\n",
    "X_train = X[test:]   \n",
    "y_train = y[test:]"
   ]
  },
  {
   "cell_type": "markdown",
   "metadata": {},
   "source": [
    "### Overall and Sprint Speed vs Wage"
   ]
  },
  {
   "cell_type": "code",
   "execution_count": null,
   "metadata": {},
   "outputs": [],
   "source": [
    "reg1 = KNeighborsRegressor(n_neighbors=1)\n",
    "reg.fit(X_train, y_train)\n",
    "plot_reg_model(reg, X_train, y_train, X_test, y_test)\n",
    "\n",
    "knn = cross_val_score(reg1, X, y, cv=10)\n",
    "print('KNN Mean R2: {}'.format(knn.mean()))\n",
    "print('KNN Standard Deviation R2: {}'.format(knn.std()))"
   ]
  },
  {
   "cell_type": "code",
   "execution_count": null,
   "metadata": {},
   "outputs": [],
   "source": [
    "reg2 = KNeighborsRegressor(n_neighbors=10)\n",
    "reg.fit(X_train, y_train)\n",
    "plot_reg_model(reg, X_train, y_train, X_test, y_test)\n",
    "\n",
    "knn1 = cross_val_score(reg2, X, y, cv=10)\n",
    "print('KNN Mean R2: {}'.format(knn1.mean()))\n",
    "print('KNN Standard Deviation R2: {}'.format(knn1.std()))"
   ]
  },
  {
   "cell_type": "markdown",
   "metadata": {},
   "source": [
    "### Overall and Dribbling vs Wage"
   ]
  },
  {
   "cell_type": "code",
   "execution_count": null,
   "metadata": {},
   "outputs": [],
   "source": [
    "X = np.array(fifa[['Overall', 'Dribbling']])\n",
    "y = np.array(fifa.iloc[:, 7])\n",
    "\n",
    "for l in range(X.shape[1]):\n",
    "    X[:, l] = ( X[:, l] - min(X[:, l]))/(max(X[:, l]) - min(X[:, l]))\n",
    "    \n",
    "n = X.shape[0]\n",
    "test = int(0.30*n)          \n",
    "perm = rn.permutation(n)   \n",
    "X = X[perm]\n",
    "y = y[perm]\n",
    "X_test = X[:test]      \n",
    "y_test = y[:test]\n",
    "X_train = X[test:]   \n",
    "y_train = y[test:]"
   ]
  },
  {
   "cell_type": "code",
   "execution_count": null,
   "metadata": {},
   "outputs": [],
   "source": [
    "reg3 = KNeighborsRegressor(n_neighbors=1)\n",
    "reg.fit(X_train, y_train)\n",
    "plot_reg_model(reg, X_train, y_train, X_test, y_test)\n",
    "\n",
    "knn2 = cross_val_score(reg2, X, y, cv=10)\n",
    "print('KNN Mean R2: {}'.format(knn2.mean()))\n",
    "print('KNN Standard Deviation R2: {}'.format(knn2.std()))"
   ]
  },
  {
   "cell_type": "code",
   "execution_count": null,
   "metadata": {},
   "outputs": [],
   "source": [
    "reg4 = KNeighborsRegressor(n_neighbors=10)\n",
    "reg.fit(X_train, y_train)\n",
    "plot_reg_model(reg, X_train, y_train, X_test, y_test)\n",
    "\n",
    "knn3 = cross_val_score(reg4, X, y, cv=10)\n",
    "print('KNN Mean R2: {}'.format(knn3.mean()))\n",
    "print('KNN Standard Deviation R2: {}'.format(knn3.std()))"
   ]
  },
  {
   "cell_type": "markdown",
   "metadata": {},
   "source": [
    "### Overall and Sliding Tackle vs Wage"
   ]
  },
  {
   "cell_type": "code",
   "execution_count": null,
   "metadata": {},
   "outputs": [],
   "source": [
    "X = np.array(fifa[['Overall', 'Sliding tackle']])\n",
    "y = np.array(fifa.iloc[:, 7])\n",
    "\n",
    "for l in range(X.shape[1]):\n",
    "    X[:, l] = ( X[:, l] - min(X[:, l]))/(max(X[:, l]) - min(X[:, l]))\n",
    "    \n",
    "n = X.shape[0]\n",
    "test = int(0.30*n)          \n",
    "perm = rn.permutation(n)   \n",
    "X = X[perm]\n",
    "y = y[perm]\n",
    "X_test = X[:test]      \n",
    "y_test = y[:test]\n",
    "X_train = X[test:]   \n",
    "y_train = y[test:]"
   ]
  },
  {
   "cell_type": "code",
   "execution_count": null,
   "metadata": {},
   "outputs": [],
   "source": [
    "reg5 = KNeighborsRegressor(n_neighbors=1)\n",
    "reg.fit(X_train, y_train)\n",
    "plot_reg_model(reg, X_train, y_train, X_test, y_test)\n",
    "\n",
    "knn4 = cross_val_score(reg5, X, y, cv=10)\n",
    "print('KNN Mean R2: {}'.format(knn4.mean()))\n",
    "print('KNN Standard Deviation R2: {}'.format(knn4.std()))"
   ]
  },
  {
   "cell_type": "code",
   "execution_count": null,
   "metadata": {},
   "outputs": [],
   "source": [
    "reg6 = KNeighborsRegressor(n_neighbors=10)\n",
    "reg.fit(X_train, y_train)\n",
    "plot_reg_model(reg, X_train, y_train, X_test, y_test)\n",
    "\n",
    "knn5 = cross_val_score(reg6, X, y, cv=10)\n",
    "print('KNN Mean R2: {}'.format(knn5.mean()))\n",
    "print('KNN Standard Deviation R2: {}'.format(knn5.std()))"
   ]
  },
  {
   "cell_type": "markdown",
   "metadata": {},
   "source": [
    "### Nueral Network Models\n",
    "* We used our other models that we have already shown to find what attributes have the largest significance on wage\n",
    "    1. We chose our \"offensive\" skills becasuse we found those are better predictors of wage than defensive/goalkeeping abilities\n",
    "* Strategy for evaluating the models\n",
    "    1. We notice we get better result for ball control in nueral networks which contradict what we have for ridge and lasso above\n",
    "* The models with offensive skills tend to work better to predict our hypothesis and we know this because our models with those skills test and train better"
   ]
  },
  {
   "cell_type": "markdown",
   "metadata": {},
   "source": [
    "### Agility and Overall VS Wage "
   ]
  },
  {
   "cell_type": "code",
   "execution_count": null,
   "metadata": {},
   "outputs": [],
   "source": [
    "X = np.array(fifa[['Agility', 'Overall']])\n",
    "y = np.array(fifa['Wage'])"
   ]
  },
  {
   "cell_type": "code",
   "execution_count": null,
   "metadata": {},
   "outputs": [],
   "source": [
    "def plot_reg_model(reg, X, y):\n",
    "\n",
    "\n",
    "    n = X.shape[0]\n",
    "    test = int(0.20*n)          \n",
    "    perm = rn.permutation(n)   \n",
    "    X = X[perm]\n",
    "    y = y[perm]\n",
    "    X_test = X[:test]     \n",
    "    y_test = y[:test]\n",
    "    X_train = X[test:]   \n",
    "    y_train = y[test:]\n",
    "    \n",
    "    reg.fit(X_train, y_train) \n",
    "     \n",
    "    nn = 200\n",
    "   \n",
    "    x_min, x_max = X[:, 0].min()-0.1, X[:, 0].max()+0.1\n",
    "    y_min, y_max = X[:, 1].min()-0.1, X[:, 1].max()+0.1\n",
    "    xx, yy = np.meshgrid(np.linspace(x_min, x_max, nn),   \n",
    "        np.linspace(y_min, y_max, nn))                    \n",
    "    Z = reg.predict(np.c_[xx.ravel(), yy.ravel()]) \n",
    "   \n",
    "    Z = Z.reshape(xx.shape)\n",
    "\n",
    "    plt.figure(figsize=(8, 6))\n",
    "    plt.contour(xx, yy, Z)\n",
    "    \n",
    "    plt.scatter(X_train[:, 0], X_train[:, 1], c=y_train, marker='o')\n",
    "    plt.scatter(X_test[:, 0], X_test[:, 1], c=y_test, marker='+');\n",
    "    \n",
    "    print('Training R2: {}'.format(reg.score(X_train, y_train)))\n",
    "    print('Testing R2: {}'.format(reg.score(X_test, y_test)))\n",
    "    \n",
    "    return reg"
   ]
  },
  {
   "cell_type": "code",
   "execution_count": null,
   "metadata": {},
   "outputs": [],
   "source": [
    "r_reg = Ridge(alpha=2)\n",
    "plot_reg_model(r_reg, X, y);\n",
    "shuffle_split(r_reg)"
   ]
  },
  {
   "cell_type": "code",
   "execution_count": null,
   "metadata": {},
   "outputs": [],
   "source": [
    "l_reg=Lasso(alpha=1)\n",
    "plot_reg_model(l_reg, X, y);\n",
    "shuffle_split(l_reg)"
   ]
  },
  {
   "cell_type": "code",
   "execution_count": null,
   "metadata": {},
   "outputs": [],
   "source": [
    "knn = KNeighborsRegressor(n_neighbors=6)\n",
    "plot_reg_model(knn, X, y);\n",
    "shuffle_split(knn)"
   ]
  },
  {
   "cell_type": "code",
   "execution_count": null,
   "metadata": {},
   "outputs": [],
   "source": [
    "tree = DecisionTreeRegressor(max_depth=10)\n",
    "plot_reg_model(tree, X, y);\n",
    "shuffle_split(tree)"
   ]
  },
  {
   "cell_type": "markdown",
   "metadata": {},
   "source": [
    "### Sprint Speed and Overall Vs Wage"
   ]
  },
  {
   "cell_type": "code",
   "execution_count": null,
   "metadata": {},
   "outputs": [],
   "source": [
    "X = np.array(fifa[['Sprint speed', 'Overall']])\n",
    "y = np.array(fifa['Wage'])"
   ]
  },
  {
   "cell_type": "code",
   "execution_count": null,
   "metadata": {},
   "outputs": [],
   "source": [
    "r_reg = Ridge(alpha=2)\n",
    "plot_reg_model(r_reg, X, y);\n",
    "shuffle_split(r_reg)"
   ]
  },
  {
   "cell_type": "code",
   "execution_count": null,
   "metadata": {},
   "outputs": [],
   "source": [
    "l_reg=Lasso(alpha=1)\n",
    "plot_reg_model(l_reg, X, y);\n",
    "shuffle_split(l_reg)"
   ]
  },
  {
   "cell_type": "code",
   "execution_count": null,
   "metadata": {},
   "outputs": [],
   "source": [
    "knn = KNeighborsRegressor(n_neighbors=6)\n",
    "plot_reg_model(knn, X, y);\n",
    "shuffle_split(knn)"
   ]
  },
  {
   "cell_type": "code",
   "execution_count": null,
   "metadata": {},
   "outputs": [],
   "source": [
    "tree = DecisionTreeRegressor(max_depth=10)\n",
    "plot_reg_model(tree, X, y);\n",
    "shuffle_split(tree)"
   ]
  },
  {
   "cell_type": "markdown",
   "metadata": {},
   "source": [
    "### Ball Control and Overall Vs Wage\n",
    "* These attributes fit best for Nueral Networks which contradicts some other models"
   ]
  },
  {
   "cell_type": "code",
   "execution_count": null,
   "metadata": {},
   "outputs": [],
   "source": [
    "X = np.array(fifa[['Ball control', 'Overall']])\n",
    "y = np.array(fifa['Wage'])"
   ]
  },
  {
   "cell_type": "code",
   "execution_count": null,
   "metadata": {},
   "outputs": [],
   "source": [
    "r_reg = Ridge(alpha=2)\n",
    "plot_reg_model(r_reg, X, y);\n",
    "shuffle_split(r_reg)"
   ]
  },
  {
   "cell_type": "code",
   "execution_count": null,
   "metadata": {},
   "outputs": [],
   "source": [
    "l_reg=Lasso(alpha=1)\n",
    "plot_reg_model(l_reg, X, y);\n",
    "shuffle_split(l_reg)"
   ]
  },
  {
   "cell_type": "code",
   "execution_count": null,
   "metadata": {},
   "outputs": [],
   "source": [
    "knn = KNeighborsRegressor(n_neighbors=6)\n",
    "plot_reg_model(knn, X, y);\n",
    "shuffle_split(knn)"
   ]
  },
  {
   "cell_type": "code",
   "execution_count": null,
   "metadata": {},
   "outputs": [],
   "source": [
    "tree = DecisionTreeRegressor(max_depth=10)\n",
    "plot_reg_model(tree, X, y);\n",
    "shuffle_split(tree)"
   ]
  },
  {
   "cell_type": "markdown",
   "metadata": {},
   "source": [
    "### Decision Tree Model\n",
    "* Using the descision tree model we used overall and age \n",
    "*\n",
    "*"
   ]
  },
  {
   "cell_type": "code",
   "execution_count": null,
   "metadata": {},
   "outputs": [],
   "source": [
    "from sklearn.tree import export_graphviz\n",
    "import graphviz"
   ]
  },
  {
   "cell_type": "code",
   "execution_count": null,
   "metadata": {},
   "outputs": [],
   "source": [
    "export_graphviz(tree, out_file='tree-1.dot', feature_names=['Overall', 'Age'], rounded=True, filled=True,\n",
    "                    special_characters=True, max_depth=3, proportion=True, precision=3,  leaves_parallel=False)\n",
    "\n",
    "with open('tree-1.dot') as f:\n",
    "    dot_graph = f.read()\n",
    "\n",
    "\n",
    "\n",
    "display( graphviz.Source(dot_graph) )"
   ]
  },
  {
   "cell_type": "code",
   "execution_count": null,
   "metadata": {},
   "outputs": [],
   "source": [
    "tree1= DecisionTreeRegressor(max_depth=10)\n",
    "plot_reg_model(tree, X, y);\n",
    "shuffle_split(tree1)"
   ]
  },
  {
   "cell_type": "markdown",
   "metadata": {},
   "source": [
    "## Ensemble Models\n",
    "* We used the \"defensive\" feature to evaluate the forest and boosting methods\n",
    "* Strategy for evaluating the models\n",
    "    1. Both models gave a pretty good prediction based on given features"
   ]
  },
  {
   "cell_type": "markdown",
   "metadata": {},
   "source": [
    "### Agility and Overall vs Wage"
   ]
  },
  {
   "cell_type": "code",
   "execution_count": null,
   "metadata": {},
   "outputs": [],
   "source": [
    "X = np.array(fifa[['Agility', 'Overall']])\n",
    "y = np.array(fifa['Wage'])"
   ]
  },
  {
   "cell_type": "code",
   "execution_count": null,
   "metadata": {},
   "outputs": [],
   "source": [
    "def plot_reg_model(reg, X, y):\n",
    "\n",
    "\n",
    "    n = X.shape[0]\n",
    "    test = int(0.20*n)          \n",
    "    perm = rn.permutation(n)   \n",
    "    X = X[perm]\n",
    "    y = y[perm]\n",
    "    X_test = X[:test]     \n",
    "    y_test = y[:test]\n",
    "    X_train = X[test:]   \n",
    "    y_train = y[test:]\n",
    "    \n",
    "    reg.fit(X_train, y_train) \n",
    "     \n",
    "    nn = 200\n",
    "   \n",
    "    x_min, x_max = X[:, 0].min()-0.1, X[:, 0].max()+0.1\n",
    "    y_min, y_max = X[:, 1].min()-0.1, X[:, 1].max()+0.1\n",
    "    xx, yy = np.meshgrid(np.linspace(x_min, x_max, nn),   \n",
    "        np.linspace(y_min, y_max, nn))                    \n",
    "    Z = reg.predict(np.c_[xx.ravel(), yy.ravel()]) \n",
    "   \n",
    "    Z = Z.reshape(xx.shape)\n",
    "\n",
    "    plt.figure(figsize=(8, 6))\n",
    "    plt.contour(xx, yy, Z)\n",
    "    \n",
    "    plt.scatter(X_train[:, 0], X_train[:, 1], c=y_train, marker='o')\n",
    "    plt.scatter(X_test[:, 0], X_test[:, 1], c=y_test, marker='+');\n",
    "    \n",
    "    print('Training R2: {}'.format(reg.score(X_train, y_train)))\n",
    "    print('Testing R2: {}'.format(reg.score(X_test, y_test)))\n",
    "    \n",
    "    return reg"
   ]
  },
  {
   "cell_type": "code",
   "execution_count": null,
   "metadata": {},
   "outputs": [],
   "source": [
    "forest = RandomForestRegressor(n_estimators=100, max_depth=3, n_jobs=-1)\n",
    "plot_reg_model(forest, X, y);\n",
    "shuffle_split(forest)"
   ]
  },
  {
   "cell_type": "code",
   "execution_count": null,
   "metadata": {},
   "outputs": [],
   "source": [
    "boost = GradientBoostingRegressor(n_estimators=50, learning_rate=0.1, max_depth=5)\n",
    "plot_reg_model(boost, X, y);\n",
    "shuffle_split(boost)"
   ]
  },
  {
   "cell_type": "markdown",
   "metadata": {},
   "source": [
    "### Sprint speed and Overall vs Wage"
   ]
  },
  {
   "cell_type": "code",
   "execution_count": null,
   "metadata": {},
   "outputs": [],
   "source": [
    "X = np.array(fifa[['Sprint speed', 'Overall']])\n",
    "y = np.array(fifa['Wage'])"
   ]
  },
  {
   "cell_type": "code",
   "execution_count": null,
   "metadata": {},
   "outputs": [],
   "source": [
    "forest = RandomForestRegressor(n_estimators=100, max_depth=3, n_jobs=-1)\n",
    "plot_reg_model(forest, X, y);\n",
    "shuffle_split(forest)"
   ]
  },
  {
   "cell_type": "code",
   "execution_count": null,
   "metadata": {},
   "outputs": [],
   "source": [
    "boost = GradientBoostingRegressor(n_estimators=50, learning_rate=0.1, max_depth=5)\n",
    "plot_reg_model(boost, X, y);\n",
    "shuffle_split(boost)"
   ]
  },
  {
   "cell_type": "markdown",
   "metadata": {},
   "source": [
    "### Ball control and Overall vs Wage"
   ]
  },
  {
   "cell_type": "code",
   "execution_count": null,
   "metadata": {},
   "outputs": [],
   "source": [
    "X = np.array(fifa[['Ball control', 'Overall']])\n",
    "y = np.array(fifa['Wage'])"
   ]
  },
  {
   "cell_type": "code",
   "execution_count": null,
   "metadata": {},
   "outputs": [],
   "source": [
    "forest = RandomForestRegressor(n_estimators=100, max_depth=3, n_jobs=-1)\n",
    "plot_reg_model(forest, X, y);\n",
    "shuffle_split(forest)"
   ]
  },
  {
   "cell_type": "code",
   "execution_count": null,
   "metadata": {},
   "outputs": [],
   "source": [
    "boost = GradientBoostingRegressor(n_estimators=50, learning_rate=0.1, max_depth=5)\n",
    "plot_reg_model(boost, X, y);\n",
    "shuffle_split(boost)"
   ]
  },
  {
   "cell_type": "markdown",
   "metadata": {},
   "source": [
    "### Conclusion\n",
    "* PCA and linear regression did not really give us the best results\n",
    "* K-nearest neighbors and neural networking had the best results\n",
    "    * supported by cross validation and shuffle split values\n",
    "* Since all the features were not relevant to eachother based on position it was best to select attributes that related to offense, defense, and overall\n",
    "\n",
    "\n",
    "### OVERALL\n",
    "* #### Offensive players tend to get paid more when considering their offensive skills, while their defensive and goalie skills do not give good predictors for wage. \n",
    "* #### Those who are good offensive players, such as forwards and others who score goals, are paid more than the defensive players in the FIFA league. \n"
   ]
  },
  {
   "cell_type": "code",
   "execution_count": null,
   "metadata": {},
   "outputs": [],
   "source": []
  },
  {
   "cell_type": "code",
   "execution_count": null,
   "metadata": {},
   "outputs": [],
   "source": []
  }
 ],
 "metadata": {
  "kernelspec": {
   "display_name": "Python 3",
   "language": "python",
   "name": "python3"
  },
  "language_info": {
   "codemirror_mode": {
    "name": "ipython",
    "version": 3
   },
   "file_extension": ".py",
   "mimetype": "text/x-python",
   "name": "python",
   "nbconvert_exporter": "python",
   "pygments_lexer": "ipython3",
   "version": "3.7.4"
  }
 },
 "nbformat": 4,
 "nbformat_minor": 2
}
